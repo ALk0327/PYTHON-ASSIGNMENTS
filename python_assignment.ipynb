{
  "nbformat": 4,
  "nbformat_minor": 0,
  "metadata": {
    "colab": {
      "provenance": []
    },
    "kernelspec": {
      "name": "python3",
      "display_name": "Python 3"
    },
    "language_info": {
      "name": "python"
    }
  },
  "cells": [
    {
      "cell_type": "markdown",
      "source": [
        "Basic Syntax & IO\n",
        "\n",
        "# 1.HELLO WORLD\n"
      ],
      "metadata": {
        "id": "ZlMMkr38x4Oj"
      }
    },
    {
      "cell_type": "code",
      "execution_count": null,
      "metadata": {
        "colab": {
          "base_uri": "https://localhost:8080/"
        },
        "id": "6INyMGBztibZ",
        "outputId": "4d67d800-78bd-4817-a99e-ffca7db6ada4"
      },
      "outputs": [
        {
          "output_type": "stream",
          "name": "stdout",
          "text": [
            "Hello, World!\n"
          ]
        }
      ],
      "source": [
        "print(\"Hello, World!\")"
      ]
    },
    {
      "cell_type": "markdown",
      "source": [
        "2.Take user input and print it"
      ],
      "metadata": {
        "id": "ex9n95BV1SPE"
      }
    },
    {
      "cell_type": "code",
      "source": [
        "text = input(\"Type anything you like: \")\n",
        "print( text)"
      ],
      "metadata": {
        "colab": {
          "base_uri": "https://localhost:8080/"
        },
        "id": "tma7xfLE0ngf",
        "outputId": "bfe7d558-7840-41c9-dd4c-2180ed894ab2"
      },
      "execution_count": null,
      "outputs": [
        {
          "output_type": "stream",
          "name": "stdout",
          "text": [
            "Type anything you like: ksr datavision\n",
            "ksr datavision\n"
          ]
        }
      ]
    },
    {
      "cell_type": "markdown",
      "source": [
        "3.Swap two variables\n"
      ],
      "metadata": {
        "id": "y8Ok93-J2thg"
      }
    },
    {
      "cell_type": "code",
      "source": [
        "a, b = 6, 47\n",
        "print(\"Before swap:\", a, b)\n",
        "a, b = b, a\n",
        "print(\"Now swapped → a:\", a, \", b:\", b)"
      ],
      "metadata": {
        "colab": {
          "base_uri": "https://localhost:8080/"
        },
        "id": "es4JL0zq2fdV",
        "outputId": "93528bc5-07e2-41cf-cb6a-b6cf4da7a763"
      },
      "execution_count": null,
      "outputs": [
        {
          "output_type": "stream",
          "name": "stdout",
          "text": [
            "Before swap: 6 47\n",
            "Now swapped → a: 47 , b: 6\n"
          ]
        }
      ]
    },
    {
      "cell_type": "markdown",
      "source": [
        "4.Check if a number is even or odd\n"
      ],
      "metadata": {
        "id": "FMm8aXhm3YKf"
      }
    },
    {
      "cell_type": "code",
      "source": [
        "num = int(input(\"Enter a number: \"))\n",
        "if num % 2 == 0:\n",
        "    print(\"The number is even.\")\n",
        "else:\n",
        "    print(\"The number is odd.\")"
      ],
      "metadata": {
        "colab": {
          "base_uri": "https://localhost:8080/"
        },
        "id": "9bnU_EYa3bar",
        "outputId": "2b231461-f5bd-4008-e0c9-7f9b6d9ee46d"
      },
      "execution_count": null,
      "outputs": [
        {
          "output_type": "stream",
          "name": "stdout",
          "text": [
            "Enter a number: 47\n",
            "The number is odd.\n"
          ]
        }
      ]
    },
    {
      "cell_type": "markdown",
      "source": [
        "5.Find the largest of two numbers"
      ],
      "metadata": {
        "id": "sOWOJYN-3-Ne"
      }
    },
    {
      "cell_type": "code",
      "source": [
        "x = int(input(\"Enter first value: \"))\n",
        "y = int(input(\"Enter second value: \"))\n",
        "\n",
        "if x == y:\n",
        "    print(\"Both values are equal\")\n",
        "elif x > y:\n",
        "    print(f\"{x} is greater than {y}\")\n",
        "else:\n",
        "    print(f\"{y} is greater than {x}\")"
      ],
      "metadata": {
        "colab": {
          "base_uri": "https://localhost:8080/"
        },
        "id": "cCwfGM3O3Jqb",
        "outputId": "0ddce160-aebb-4ded-bc5a-57903da75b2a"
      },
      "execution_count": null,
      "outputs": [
        {
          "output_type": "stream",
          "name": "stdout",
          "text": [
            "Enter first value: 13\n",
            "Enter second value: 15\n",
            "15 is greater than 13\n"
          ]
        }
      ]
    },
    {
      "cell_type": "markdown",
      "source": [
        "Operators\n",
        "\n"
      ],
      "metadata": {
        "id": "emGJAleK4lVq"
      }
    },
    {
      "cell_type": "markdown",
      "source": [
        "1.Perform arithmetic operations (+, -, *, /, %, **), take any values as “a” and “b”"
      ],
      "metadata": {
        "id": "lsIDcK2P4urb"
      }
    },
    {
      "cell_type": "code",
      "source": [
        "x = int(input(\"Enter first number: \"))\n",
        "y = int(input(\"Enter second number: \"))\n",
        "\n",
        "print(\"Sum =\", x + y)\n",
        "print(\"Difference =\", x - y)\n",
        "print(\"Product =\", x * y)\n",
        "print(\"Quotient =\", x / y)       # gives the result of division\n",
        "print(\"Remainder =\", x % y)      # gives remainder after division\n",
        "print(\"Power =\", x ** y)         # x raised to the power of y\n"
      ],
      "metadata": {
        "colab": {
          "base_uri": "https://localhost:8080/"
        },
        "id": "bZijujGY4e6e",
        "outputId": "14e4863b-f87d-4330-82e4-26d5707b6423"
      },
      "execution_count": null,
      "outputs": [
        {
          "output_type": "stream",
          "name": "stdout",
          "text": [
            "Enter first number: 2\n",
            "Enter second number: 3\n",
            "Sum = 5\n",
            "Difference = -1\n",
            "Product = 6\n",
            "Quotient = 0.6666666666666666\n",
            "Remainder = 2\n",
            "Power = 8\n"
          ]
        }
      ]
    },
    {
      "cell_type": "markdown",
      "source": [
        "2.Calculate the square and cube of a number"
      ],
      "metadata": {
        "id": "hNbX5-n46Oe-"
      }
    },
    {
      "cell_type": "code",
      "source": [
        "\n",
        "\n",
        "#Calculate the square and cube of a number\n",
        "num = float(input(\"Enter a number: \"))\n",
        "square = num ** 2\n",
        "cube = num ** 3\n",
        "print(\"Square:\", square)\n",
        "print(\"Cube:\", cube)"
      ],
      "metadata": {
        "colab": {
          "base_uri": "https://localhost:8080/"
        },
        "id": "vY_qP-l66D9W",
        "outputId": "49edb432-3216-4bcc-e2a3-0eb454020842"
      },
      "execution_count": null,
      "outputs": [
        {
          "output_type": "stream",
          "name": "stdout",
          "text": [
            "Enter a number: 2\n",
            "Square: 4.0\n",
            "Cube: 8.0\n"
          ]
        }
      ]
    },
    {
      "cell_type": "markdown",
      "source": [
        "3.Convert Celsius to Fahrenheit (F = (C * 9/5) + 32)\n"
      ],
      "metadata": {
        "id": "-5_09rwo6jnR"
      }
    },
    {
      "cell_type": "code",
      "source": [
        "c = float(input(\"Enter Celsius: \"))\n",
        "f = (c * 9/5) + 32\n",
        "print(\"Fahrenheit:\", f)"
      ],
      "metadata": {
        "colab": {
          "base_uri": "https://localhost:8080/"
        },
        "id": "mV2P56SJ6fye",
        "outputId": "c0556e78-0af6-40fb-f2ca-5a158c02afa7"
      },
      "execution_count": null,
      "outputs": [
        {
          "output_type": "stream",
          "name": "stdout",
          "text": [
            "Enter Celsius: 345.8\n",
            "Fahrenheit: 654.44\n"
          ]
        }
      ]
    },
    {
      "cell_type": "markdown",
      "source": [
        "4.Convert kilometers to miles (1 km = 0.621371 miles)"
      ],
      "metadata": {
        "id": "rzCNw5l07HML"
      }
    },
    {
      "cell_type": "code",
      "source": [
        "distance_km = float(input(\"Enter distance in km: \"))\n",
        "distance_miles = distance_km * 0.621371\n",
        "print(\"Distance in miles is:\", distance_miles)"
      ],
      "metadata": {
        "colab": {
          "base_uri": "https://localhost:8080/"
        },
        "id": "6NM6Gf097ANO",
        "outputId": "e953fdea-6a5d-44a4-b0d4-e953322159d5"
      },
      "execution_count": null,
      "outputs": [
        {
          "output_type": "stream",
          "name": "stdout",
          "text": [
            "Enter distance in km: 50\n",
            "Distance in miles is: 31.068550000000002\n"
          ]
        }
      ]
    },
    {
      "cell_type": "markdown",
      "source": [
        "5.Check if a number is positive, negative, or zero"
      ],
      "metadata": {
        "id": "RH7A6WB77aIX"
      }
    },
    {
      "cell_type": "code",
      "source": [
        "n = float(input(\"Enter any number: \"))\n",
        "\n",
        "if n > 0:\n",
        "    print(\"Positive number\")\n",
        "elif n < 0:\n",
        "    print(\"Negative number\")\n",
        "else:\n",
        "    print(\"Zero\")"
      ],
      "metadata": {
        "colab": {
          "base_uri": "https://localhost:8080/"
        },
        "id": "2ynEwCGG7Stg",
        "outputId": "092a0017-5078-4044-f6ae-d2477d5d3944"
      },
      "execution_count": null,
      "outputs": [
        {
          "output_type": "stream",
          "name": "stdout",
          "text": [
            "Enter any number: 9\n",
            "Positive number\n"
          ]
        }
      ]
    },
    {
      "cell_type": "markdown",
      "source": [
        "Conditional Statements"
      ],
      "metadata": {
        "id": "MslgidQA7tCt"
      }
    },
    {
      "cell_type": "markdown",
      "source": [
        "1.Find the largest of three numbers.\n"
      ],
      "metadata": {
        "id": "4ckxQtxC7xpo"
      }
    },
    {
      "cell_type": "code",
      "source": [
        "# Take three numbers as input\n",
        "num1 = int(input(\"Enter first number: \"))\n",
        "num2 = int(input(\"Enter second number: \"))\n",
        "num3 = int(input(\"Enter third number: \"))\n",
        "\n",
        "if num1 > num2 and num1 > num3:\n",
        "    print(\"The largest number is\", num1)\n",
        "elif num2 > num1 and num2 > num3:\n",
        "    print(\"The largest number is\", num2)\n",
        "else:\n",
        "    print(\"The largest number is\", num3)"
      ],
      "metadata": {
        "colab": {
          "base_uri": "https://localhost:8080/"
        },
        "id": "Ud7SvMjw7mlT",
        "outputId": "89799417-aea5-49b6-8d7e-e5e43e740c16"
      },
      "execution_count": null,
      "outputs": [
        {
          "output_type": "stream",
          "name": "stdout",
          "text": [
            "Enter first number: 89\n",
            "Enter second number: 98\n",
            "Enter third number: 56\n",
            "The largest number is 98\n"
          ]
        }
      ]
    },
    {
      "cell_type": "markdown",
      "source": [
        "2.Check if a year is a leap year.\n"
      ],
      "metadata": {
        "id": "hzmWKUJy8QQb"
      }
    },
    {
      "cell_type": "code",
      "source": [
        "year = int(input(\"Enter a year: \"))\n",
        "if (year % 400 == 0) or (year % 4 == 0 and year % 100 != 0):\n",
        "    print(f\"{year} is a Leap Year\")\n",
        "else:\n",
        "    print(f\"{year} is Not a Leap Year\")"
      ],
      "metadata": {
        "colab": {
          "base_uri": "https://localhost:8080/"
        },
        "id": "AHzkyo2F8G1j",
        "outputId": "ca8f42b0-4e53-47ad-dc87-2fc4f0198b84"
      },
      "execution_count": null,
      "outputs": [
        {
          "output_type": "stream",
          "name": "stdout",
          "text": [
            "Enter a year: 2008\n",
            "2008 is a Leap Year\n"
          ]
        }
      ]
    },
    {
      "cell_type": "markdown",
      "source": [
        "3.Check if a character is a vowel or consonant"
      ],
      "metadata": {
        "id": "gs-atlSO8-Nd"
      }
    },
    {
      "cell_type": "code",
      "source": [
        "char = input(\"Enter any letter: \").lower()\n",
        "\n",
        "vowels = \"aeiou\"\n",
        "\n",
        "if char in vowels:\n",
        "    print(char, \"is a vowel\")\n",
        "else:\n",
        "    print(char, \"is a consonant\")"
      ],
      "metadata": {
        "colab": {
          "base_uri": "https://localhost:8080/"
        },
        "id": "R-QlE16q80O7",
        "outputId": "eddc1bbd-34ad-4e56-c4e8-ad75882b91c4"
      },
      "execution_count": null,
      "outputs": [
        {
          "output_type": "stream",
          "name": "stdout",
          "text": [
            "Enter any letter: lokesh\n",
            "lokesh is a consonant\n"
          ]
        }
      ]
    },
    {
      "cell_type": "markdown",
      "source": [
        "4.Write a Python program to assign the grades to each subject based on the grade scale:\n",
        "Student subject marks:\n",
        "maths = 85 science = 78 english = 92\n",
        "Grade scale: A: 90-100\n",
        "B: 80-89\n",
        "C: 70-79\n",
        "D: 60-69\n",
        "E: 50-59\n",
        "F: Below 50\n"
      ],
      "metadata": {
        "id": "tUqB4h_r-RnP"
      }
    },
    {
      "cell_type": "code",
      "source": [
        "# Student marks\n",
        "maths = 85\n",
        "science = 78\n",
        "english = 92\n",
        "\n",
        "# Maths grade\n",
        "if maths >= 90:\n",
        "    print(\"Maths grade: A\")\n",
        "elif maths >= 80:\n",
        "    print(\"Maths grade: B\")\n",
        "elif maths >= 70:\n",
        "    print(\"Maths grade: C\")\n",
        "elif maths >= 60:\n",
        "    print(\"Maths grade: D\")\n",
        "elif maths >= 50:\n",
        "    print(\"Maths grade: E\")\n",
        "else:\n",
        "    print(\"Maths grade: F\")\n",
        "\n",
        "# Science grade\n",
        "if science >= 90:\n",
        "    print(\"Science grade: A\")\n",
        "elif science >= 80:\n",
        "    print(\"Science grade: B\")\n",
        "elif science >= 70:\n",
        "    print(\"Science grade: C\")\n",
        "elif science >= 60:\n",
        "    print(\"Science grade: D\")\n",
        "elif science >= 50:\n",
        "    print(\"Science grade: E\")\n",
        "else:\n",
        "    print(\"Science grade: F\")\n",
        "\n",
        "# English grade\n",
        "if english >= 90:\n",
        "    print(\"English grade: A\")\n",
        "elif english >= 80:\n",
        "    print(\"English grade: B\")\n",
        "elif english >= 70:\n",
        "    print(\"English grade: C\")\n",
        "elif english >= 60:\n",
        "    print(\"English grade: D\")\n",
        "elif english >= 50:\n",
        "    print(\"English grade: E\")\n",
        "else:\n",
        "    print(\"English grade: F\")\n"
      ],
      "metadata": {
        "colab": {
          "base_uri": "https://localhost:8080/"
        },
        "id": "1N2KvIwr9J6I",
        "outputId": "3b0faf90-f1a3-45de-db1a-d458027bd087"
      },
      "execution_count": null,
      "outputs": [
        {
          "output_type": "stream",
          "name": "stdout",
          "text": [
            "Maths grade: B\n",
            "Science grade: C\n",
            "English grade: A\n"
          ]
        }
      ]
    },
    {
      "cell_type": "markdown",
      "source": [
        "5.Write a program to check if a number is divisible by both 5 and 11"
      ],
      "metadata": {
        "id": "cTl3vsXW-XdJ"
      }
    },
    {
      "cell_type": "code",
      "source": [
        "\n",
        "num = int(input(\"Enter a number: \"))\n",
        "if num % 5 == 0 and num % 11 == 0:\n",
        "    print(f\"{num} is divisible by both 5 and 11\")\n",
        "else:\n",
        "    print(f\"{num} is not divisible by both 5 and 11\")"
      ],
      "metadata": {
        "colab": {
          "base_uri": "https://localhost:8080/"
        },
        "id": "Pn6jDg2o-Lcn",
        "outputId": "6f37e518-a80a-4306-fcee-9a80fe90d0a7"
      },
      "execution_count": null,
      "outputs": [
        {
          "output_type": "stream",
          "name": "stdout",
          "text": [
            "Enter a number: 55\n",
            "55 is divisible by both 5 and 11\n"
          ]
        }
      ]
    },
    {
      "cell_type": "markdown",
      "source": [
        "Loops\n"
      ],
      "metadata": {
        "id": "xeydIc7G-k4i"
      }
    },
    {
      "cell_type": "markdown",
      "source": [
        "1.Print numbers from 1 to the given number N"
      ],
      "metadata": {
        "id": "jxoX6CSr-tAR"
      }
    },
    {
      "cell_type": "code",
      "source": [
        "n = int(input(\"Enter a number: \"))\n",
        "for i in range(1, n + 1):\n",
        "    print(i)\n"
      ],
      "metadata": {
        "colab": {
          "base_uri": "https://localhost:8080/"
        },
        "id": "U9J8U3Ia-cYi",
        "outputId": "cbb41d0e-74b4-4bbc-a155-40216e7cfb44"
      },
      "execution_count": null,
      "outputs": [
        {
          "output_type": "stream",
          "name": "stdout",
          "text": [
            "Enter a number: 10\n",
            "1\n",
            "2\n",
            "3\n",
            "4\n",
            "5\n",
            "6\n",
            "7\n",
            "8\n",
            "9\n",
            "10\n"
          ]
        }
      ]
    },
    {
      "cell_type": "markdown",
      "source": [
        "2.Print even numbers up to the given number N"
      ],
      "metadata": {
        "id": "umsqs7UG-1Qa"
      }
    },
    {
      "cell_type": "code",
      "source": [
        "n = int(input(\"Enter a number: \"))\n",
        "for i in range(2, n+ 1, 2):\n",
        "    print(i)"
      ],
      "metadata": {
        "colab": {
          "base_uri": "https://localhost:8080/"
        },
        "id": "z6mvyMH8_WWX",
        "outputId": "41948237-bc2d-452f-bcc1-27036057a265"
      },
      "execution_count": null,
      "outputs": [
        {
          "output_type": "stream",
          "name": "stdout",
          "text": [
            "Enter a number: 10\n",
            "2\n",
            "4\n",
            "6\n",
            "8\n",
            "10\n"
          ]
        }
      ]
    },
    {
      "cell_type": "markdown",
      "source": [
        "3.Sum of first N natural numbers (sum = n * (n+1) / 2)"
      ],
      "metadata": {
        "id": "wEbMwNT5_SD6"
      }
    },
    {
      "cell_type": "code",
      "source": [
        "n = int(input(\"Enter a number: \"))\n",
        "sum = 0\n",
        "for i in range(1,n+1):\n",
        "  sum +=i\n",
        "print(sum)"
      ],
      "metadata": {
        "colab": {
          "base_uri": "https://localhost:8080/"
        },
        "id": "oxN06tmQ-yG5",
        "outputId": "16b86a63-b9b0-48f3-895a-6f7b03ceb55e"
      },
      "execution_count": null,
      "outputs": [
        {
          "output_type": "stream",
          "name": "stdout",
          "text": [
            "Enter a number: 10\n",
            "55\n"
          ]
        }
      ]
    },
    {
      "cell_type": "markdown",
      "source": [
        "4.Calculate the factorial of a number (n! = n × (n-1) × ... × 1) without using def function"
      ],
      "metadata": {
        "id": "r7Bz3j3Z_-AZ"
      }
    },
    {
      "cell_type": "code",
      "source": [
        "n = int(input(\"Enter a number: \"))\n",
        "fact = 1\n",
        "for i in range(1, n + 1):\n",
        "    fact *= i\n",
        "print(\"Factorial of\", n, \"is:\", fact)"
      ],
      "metadata": {
        "colab": {
          "base_uri": "https://localhost:8080/"
        },
        "id": "nnsn7WhD-3Zk",
        "outputId": "15936b5c-3975-4358-d132-baf0fc6e9715"
      },
      "execution_count": null,
      "outputs": [
        {
          "output_type": "stream",
          "name": "stdout",
          "text": [
            "Enter a number: 6\n",
            "Factorial of 6 is: 720\n"
          ]
        }
      ]
    },
    {
      "cell_type": "markdown",
      "source": [
        "5.Print multiplication table of a number"
      ],
      "metadata": {
        "id": "5pyzp5D6AK_A"
      }
    },
    {
      "cell_type": "code",
      "source": [
        "n = int(input(\"Enter a number: \"))\n",
        "for i in range(1, 11):\n",
        "    print(n, \"x\", i, \"=\", n * i)\n"
      ],
      "metadata": {
        "colab": {
          "base_uri": "https://localhost:8080/"
        },
        "id": "_d27fSSf_xyW",
        "outputId": "51c43b39-23bf-4116-a650-9d93b01c1041"
      },
      "execution_count": null,
      "outputs": [
        {
          "output_type": "stream",
          "name": "stdout",
          "text": [
            "Enter a number: 6\n",
            "6 x 1 = 6\n",
            "6 x 2 = 12\n",
            "6 x 3 = 18\n",
            "6 x 4 = 24\n",
            "6 x 5 = 30\n",
            "6 x 6 = 36\n",
            "6 x 7 = 42\n",
            "6 x 8 = 48\n",
            "6 x 9 = 54\n",
            "6 x 10 = 60\n"
          ]
        }
      ]
    },
    {
      "cell_type": "markdown",
      "source": [
        "Strings"
      ],
      "metadata": {
        "id": "1jBvvLEuAUqc"
      }
    },
    {
      "cell_type": "markdown",
      "source": [
        "1.Write a program to Reverse a given string (at least 2 ways)"
      ],
      "metadata": {
        "id": "X0-911z4AcGv"
      }
    },
    {
      "cell_type": "code",
      "source": [
        "string=input(\"enter a string \")\n",
        "str=string[::-1]\n",
        "print(str)"
      ],
      "metadata": {
        "colab": {
          "base_uri": "https://localhost:8080/"
        },
        "id": "qybpIL0YARZc",
        "outputId": "e1280b7b-d1db-4154-f0b1-3a27ef02a48a"
      },
      "execution_count": null,
      "outputs": [
        {
          "output_type": "stream",
          "name": "stdout",
          "text": [
            "enter a string lokesh\n",
            "hsekol\n"
          ]
        }
      ]
    },
    {
      "cell_type": "code",
      "source": [
        "text = input(\"Enter a string: \")\n",
        "reversed_text = \"\"\n",
        "for ch in text:\n",
        "    reversed_text = ch + reversed_text\n",
        "print(\"Reversed string:\", reversed_text)"
      ],
      "metadata": {
        "id": "sUCDrd2fCd2n"
      },
      "execution_count": null,
      "outputs": []
    },
    {
      "cell_type": "markdown",
      "source": [
        "2.Count the number of vowels in a string"
      ],
      "metadata": {
        "id": "RQdRYtIKApWD"
      }
    },
    {
      "cell_type": "code",
      "source": [
        "\n",
        "#Count the number of vowels in a strin\n",
        "str=input(\"enter a string: \")\n",
        "str=str.lower()\n",
        "vowels=\"aeiou\"\n",
        "count=0\n",
        "for i in str:\n",
        "  if i in vowels:\n",
        "    count += 1\n",
        "print(count)"
      ],
      "metadata": {
        "colab": {
          "base_uri": "https://localhost:8080/"
        },
        "id": "KJczMlqOAh96",
        "outputId": "73f7127c-d355-4aab-f429-5f41faeedae3"
      },
      "execution_count": null,
      "outputs": [
        {
          "output_type": "stream",
          "name": "stdout",
          "text": [
            "enter a string: ksr datavision\n",
            "5\n"
          ]
        }
      ]
    },
    {
      "cell_type": "markdown",
      "source": [
        "3.Check if a string is a palindrome"
      ],
      "metadata": {
        "id": "L-359mc3Bkjp"
      }
    },
    {
      "cell_type": "code",
      "source": [
        "text = input(\"Enter a string: \")\n",
        "\n",
        "if text == text[::-1]:\n",
        "    print(\"The string is a palindrome\")\n",
        "else:\n",
        "    print(\"The string is not a palindrome\")"
      ],
      "metadata": {
        "colab": {
          "base_uri": "https://localhost:8080/"
        },
        "id": "oxMo1TC2BUwe",
        "outputId": "193079b4-83bb-4491-ffa3-1bcb32546c03"
      },
      "execution_count": null,
      "outputs": [
        {
          "output_type": "stream",
          "name": "stdout",
          "text": [
            "Enter a string: mom\n",
            "The string is a palindrome\n"
          ]
        }
      ]
    },
    {
      "cell_type": "markdown",
      "source": [
        "4.Convert uppercase to lowercase and vice versa"
      ],
      "metadata": {
        "id": "VgzRcRVbB7Im"
      }
    },
    {
      "cell_type": "code",
      "source": [
        "string=input(\"enter a string : \" )\n",
        "converted_str=\"\"\n",
        "for char in string:\n",
        "  if char.islower():\n",
        "    converted_str +=char.upper()\n",
        "  elif char.isupper():\n",
        "    converted_str += char.lower()\n",
        "  else:\n",
        "    converted_str += char\n",
        "print(converted_str)"
      ],
      "metadata": {
        "colab": {
          "base_uri": "https://localhost:8080/"
        },
        "id": "Is_irLy5Bzq7",
        "outputId": "94da5674-0185-462f-a87b-70b64b22b098"
      },
      "execution_count": null,
      "outputs": [
        {
          "output_type": "stream",
          "name": "stdout",
          "text": [
            "enter a string : LOKESH\n",
            "lokesh\n"
          ]
        }
      ]
    },
    {
      "cell_type": "markdown",
      "source": [
        "5.Find the length of a string without using len() function"
      ],
      "metadata": {
        "id": "wwoFem-DDIUL"
      }
    },
    {
      "cell_type": "code",
      "source": [
        "text = input(\"Enter a string: \")\n",
        "count = 0\n",
        "\n",
        "for char in text:\n",
        "    count += 1\n",
        "\n",
        "print(\"Length of the string is:\", count)"
      ],
      "metadata": {
        "colab": {
          "base_uri": "https://localhost:8080/"
        },
        "id": "IVMi7urDDA9K",
        "outputId": "e439c294-20f6-4819-db55-9f03ee01964a"
      },
      "execution_count": null,
      "outputs": [
        {
          "output_type": "stream",
          "name": "stdout",
          "text": [
            "Enter a string: lokesh\n",
            "Length of the string is: 6\n"
          ]
        }
      ]
    },
    {
      "cell_type": "markdown",
      "source": [
        "Lists"
      ],
      "metadata": {
        "id": "SqDH7RZ_DefT"
      }
    },
    {
      "cell_type": "markdown",
      "source": [
        "1.Find the largest element in a list"
      ],
      "metadata": {
        "id": "Z4ZgExIJDilw"
      }
    },
    {
      "cell_type": "markdown",
      "source": [
        "2.Find the smallest element in a list"
      ],
      "metadata": {
        "id": "3nlc1W6AD42J"
      }
    },
    {
      "cell_type": "code",
      "source": [
        "numbers = [12, 45, 7, 89, 34]\n",
        "\n",
        "largest = numbers[0]\n",
        "smallest = numbers[0]\n",
        "\n",
        "for num in numbers:\n",
        "    if num > largest:\n",
        "        largest = num\n",
        "    if num < smallest:\n",
        "        smallest = num\n",
        "\n",
        "print(\"Largest element is:\", largest)\n",
        "print(\"Smallest element is:\", smallest)"
      ],
      "metadata": {
        "colab": {
          "base_uri": "https://localhost:8080/"
        },
        "id": "Zp5eWIHVDSB1",
        "outputId": "39d93564-b381-46d6-f39c-2b5358f2e359"
      },
      "execution_count": null,
      "outputs": [
        {
          "output_type": "stream",
          "name": "stdout",
          "text": [
            "Largest element is: 89\n",
            "Smallest element is: 7\n"
          ]
        }
      ]
    },
    {
      "cell_type": "markdown",
      "source": [
        "3.Find the sum of elements in a list"
      ],
      "metadata": {
        "id": "ODU-1ZyvEYm2"
      }
    },
    {
      "cell_type": "code",
      "source": [
        "numbers = [12, 45, 7, 89, 34]\n",
        "total = 0\n",
        "\n",
        "for num in numbers:\n",
        "    total += num\n",
        "\n",
        "print(\"Sum of elements is:\", total)"
      ],
      "metadata": {
        "colab": {
          "base_uri": "https://localhost:8080/"
        },
        "id": "BIV6ZW2CDsdI",
        "outputId": "7ab99822-a2bd-4aca-ec80-8ec1f4fac1c4"
      },
      "execution_count": null,
      "outputs": [
        {
          "output_type": "stream",
          "name": "stdout",
          "text": [
            "Sum of elements is: 187\n"
          ]
        }
      ]
    },
    {
      "cell_type": "markdown",
      "source": [
        "4.Sort a list in ascending order"
      ],
      "metadata": {
        "id": "t_cnEdcpEi_M"
      }
    },
    {
      "cell_type": "code",
      "source": [
        "numbers = [12, 45, 7, 89, 34]\n",
        "\n",
        "for i in range(len(numbers)):\n",
        "    for j in range(i + 1, len(numbers)):\n",
        "        if numbers[i] > numbers[j]:\n",
        "            numbers[i], numbers[j] = numbers[j], numbers[i]\n",
        "\n",
        "print(\"Sorted list (ascending):\", numbers)"
      ],
      "metadata": {
        "colab": {
          "base_uri": "https://localhost:8080/"
        },
        "id": "81BUiAIREgyi",
        "outputId": "468c8953-d1e1-4bfd-fcd4-ee6e92c671eb"
      },
      "execution_count": null,
      "outputs": [
        {
          "output_type": "stream",
          "name": "stdout",
          "text": [
            "Sorted list (ascending): [7, 12, 34, 45, 89]\n"
          ]
        }
      ]
    },
    {
      "cell_type": "markdown",
      "source": [
        "5.Remove duplicates from a list"
      ],
      "metadata": {
        "id": "nUayKsMZE48N"
      }
    },
    {
      "cell_type": "code",
      "source": [
        "numbers = [12, 45, 7, 89, 12, 34, 45]\n",
        "unique_numbers = []\n",
        "\n",
        "for num in numbers:\n",
        "    if num not in unique_numbers:\n",
        "        unique_numbers.append(num)\n",
        "\n",
        "print(\"List without duplicates:\", unique_numbers)\n"
      ],
      "metadata": {
        "colab": {
          "base_uri": "https://localhost:8080/"
        },
        "id": "wg7dZtMqEyZg",
        "outputId": "2180668a-b760-4273-a93c-3fc960ee598f"
      },
      "execution_count": null,
      "outputs": [
        {
          "output_type": "stream",
          "name": "stdout",
          "text": [
            "List without duplicates: [12, 45, 7, 89, 34]\n"
          ]
        }
      ]
    },
    {
      "cell_type": "markdown",
      "source": [
        "Tuples"
      ],
      "metadata": {
        "id": "19-bGbTBFNqa"
      }
    },
    {
      "cell_type": "markdown",
      "source": [
        "1.Find the maximum and minimum number in a tuple"
      ],
      "metadata": {
        "id": "XO8wy9FwFR2E"
      }
    },
    {
      "cell_type": "code",
      "source": [
        "numbers = (12, 45, 7, 89, 34)\n",
        "\n",
        "maximum = numbers[0]\n",
        "minimum = numbers[0]\n",
        "\n",
        "for num in numbers:\n",
        "    if num > maximum:\n",
        "        maximum = num\n",
        "    if num < minimum:\n",
        "        minimum = num\n",
        "\n",
        "print(\"Maximum number is:\", maximum)\n",
        "print(\"Minimum number is:\", minimum)\n"
      ],
      "metadata": {
        "colab": {
          "base_uri": "https://localhost:8080/"
        },
        "id": "mAF8cmadFJr5",
        "outputId": "ffc84f4f-a5ca-4874-f563-4308dc4630e2"
      },
      "execution_count": null,
      "outputs": [
        {
          "output_type": "stream",
          "name": "stdout",
          "text": [
            "Maximum number is: 89\n",
            "Minimum number is: 7\n"
          ]
        }
      ]
    },
    {
      "cell_type": "markdown",
      "source": [
        "2.Convert a tuple to a list"
      ],
      "metadata": {
        "id": "QKxB-I3VFfrp"
      }
    },
    {
      "cell_type": "code",
      "source": [
        "t = (12, 45, 7, 89, 34)\n",
        "lst = list(t)\n",
        "\n",
        "print(\"Converted list:\", lst)"
      ],
      "metadata": {
        "colab": {
          "base_uri": "https://localhost:8080/"
        },
        "id": "AUt38vZ5FdN6",
        "outputId": "b285092b-c3ea-4fdd-b495-2dc000effc88"
      },
      "execution_count": null,
      "outputs": [
        {
          "output_type": "stream",
          "name": "stdout",
          "text": [
            "Converted list: [12, 45, 7, 89, 34]\n"
          ]
        }
      ]
    },
    {
      "cell_type": "markdown",
      "source": [
        "3.Count occurrences of an element in a tuple"
      ],
      "metadata": {
        "id": "Lunw-aHjFthi"
      }
    },
    {
      "cell_type": "code",
      "source": [
        "\n",
        "my_tuple = (1, 2, 2, 3,\"true\",46.9,False, 2, 4)\n",
        "count_2 = my_tuple.count(2)\n",
        "\n",
        "print(\"Count of 2:\", count_2)"
      ],
      "metadata": {
        "colab": {
          "base_uri": "https://localhost:8080/"
        },
        "id": "3bK8G87wFqig",
        "outputId": "7d29eea5-a656-468e-816b-8ba4f5e5e571"
      },
      "execution_count": null,
      "outputs": [
        {
          "output_type": "stream",
          "name": "stdout",
          "text": [
            "Count of 2: 3\n"
          ]
        }
      ]
    },
    {
      "cell_type": "markdown",
      "source": [
        "4.Find the index of an element in a tuple"
      ],
      "metadata": {
        "id": "Pppb1UkSGFw4"
      }
    },
    {
      "cell_type": "code",
      "source": [
        "my_tuple=( 12,\"true\",37.5,15,11,True,15,\"abc\")\n",
        "index_pos=my_tuple.index(15)\n",
        "print(index_pos)\n"
      ],
      "metadata": {
        "colab": {
          "base_uri": "https://localhost:8080/"
        },
        "id": "1ieUL9XyGBuf",
        "outputId": "9634a778-870f-4ae5-dc91-bcf568aebb08"
      },
      "execution_count": null,
      "outputs": [
        {
          "output_type": "stream",
          "name": "stdout",
          "text": [
            "3\n"
          ]
        }
      ]
    },
    {
      "cell_type": "markdown",
      "source": [
        "5.Reverse a tuple"
      ],
      "metadata": {
        "id": "_0E-ABVtH5Lh"
      }
    },
    {
      "cell_type": "code",
      "source": [
        "my_tuple = (1, 2, 3, 4, 5)\n",
        "\n",
        "reversed_tuple = my_tuple[::-1]\n",
        "print(\"Reversed tuple:\", reversed_tuple)"
      ],
      "metadata": {
        "colab": {
          "base_uri": "https://localhost:8080/"
        },
        "id": "jV4H2YQuGYKF",
        "outputId": "49d85bd6-e65f-4a46-c44d-9addd1221c5c"
      },
      "execution_count": null,
      "outputs": [
        {
          "output_type": "stream",
          "name": "stdout",
          "text": [
            "Reversed tuple: (5, 4, 3, 2, 1)\n"
          ]
        }
      ]
    },
    {
      "cell_type": "markdown",
      "source": [
        "Sets\n"
      ],
      "metadata": {
        "id": "LvxafjdAH9-m"
      }
    },
    {
      "cell_type": "markdown",
      "source": [
        "1.Create empty set"
      ],
      "metadata": {
        "id": "dugvbc_BICsL"
      }
    },
    {
      "cell_type": "code",
      "source": [
        "empty_set=set()\n",
        "print(empty_set)"
      ],
      "metadata": {
        "colab": {
          "base_uri": "https://localhost:8080/"
        },
        "id": "ci-P7TQbH4iJ",
        "outputId": "51381fb8-9242-4f3e-ecea-2d7f4f931c0f"
      },
      "execution_count": null,
      "outputs": [
        {
          "output_type": "stream",
          "name": "stdout",
          "text": [
            "set()\n"
          ]
        }
      ]
    },
    {
      "cell_type": "markdown",
      "source": [
        "2.Perform union of two sets"
      ],
      "metadata": {
        "id": "Gqp_BVqeIMjh"
      }
    },
    {
      "cell_type": "code",
      "source": [
        "set1={1,2,3,4,5}\n",
        "set2={4,5,6,7,8}\n",
        "union_set=set1.union(set2)\n",
        "print(union_set)"
      ],
      "metadata": {
        "colab": {
          "base_uri": "https://localhost:8080/"
        },
        "id": "ljdMFcLWILZR",
        "outputId": "eb94d41f-6a6d-4ae0-9502-5439b8731fc8"
      },
      "execution_count": null,
      "outputs": [
        {
          "output_type": "stream",
          "name": "stdout",
          "text": [
            "{1, 2, 3, 4, 5, 6, 7, 8}\n"
          ]
        }
      ]
    },
    {
      "cell_type": "markdown",
      "source": [
        "3.Perform intersection of two sets"
      ],
      "metadata": {
        "id": "iJZRdcGvIV9i"
      }
    },
    {
      "cell_type": "code",
      "source": [
        "intersection_set=set1.intersection(set2)\n",
        "print(intersection_set)"
      ],
      "metadata": {
        "colab": {
          "base_uri": "https://localhost:8080/"
        },
        "id": "N0bi3TVOITWh",
        "outputId": "cd4e7483-baeb-433d-f9f6-d85c118c2156"
      },
      "execution_count": null,
      "outputs": [
        {
          "output_type": "stream",
          "name": "stdout",
          "text": [
            "{4, 5}\n"
          ]
        }
      ]
    },
    {
      "cell_type": "markdown",
      "source": [
        "4.Perform difference of two sets"
      ],
      "metadata": {
        "id": "7sEHnRYoIfH6"
      }
    },
    {
      "cell_type": "code",
      "source": [
        "difference_set2 = set1.difference(set2)\n",
        "print(difference_set2)\n",
        "difference_set1 = set2.difference(set1)\n",
        "print(difference_set1)"
      ],
      "metadata": {
        "colab": {
          "base_uri": "https://localhost:8080/"
        },
        "id": "oKPX2CVAIa5p",
        "outputId": "699eb7bf-9e34-40fe-a09b-755766d16b66"
      },
      "execution_count": null,
      "outputs": [
        {
          "output_type": "stream",
          "name": "stdout",
          "text": [
            "{1, 2, 3}\n",
            "{8, 6, 7}\n"
          ]
        }
      ]
    },
    {
      "cell_type": "markdown",
      "source": [
        "5.Check if a set is a subset of another"
      ],
      "metadata": {
        "id": "FojAueZlIlgy"
      }
    },
    {
      "cell_type": "code",
      "source": [
        "myset1={1,2}\n",
        "myset2={1,2,3,4,5}\n",
        "is_subset=myset1.issubset(myset2)\n",
        "print(is_subset)"
      ],
      "metadata": {
        "colab": {
          "base_uri": "https://localhost:8080/"
        },
        "id": "_EKN53M5Iiur",
        "outputId": "9d03f97b-f7ea-4421-ed75-ad78ebc9d730"
      },
      "execution_count": null,
      "outputs": [
        {
          "output_type": "stream",
          "name": "stdout",
          "text": [
            "True\n"
          ]
        }
      ]
    },
    {
      "cell_type": "markdown",
      "source": [
        "6.Remove an element from a set"
      ],
      "metadata": {
        "id": "kjD2AuUwItVU"
      }
    },
    {
      "cell_type": "code",
      "source": [
        "my_set={23,12,34,67,32,47,98,45,63}\n",
        "my_set.remove(47)\n",
        "print(my_set)"
      ],
      "metadata": {
        "colab": {
          "base_uri": "https://localhost:8080/"
        },
        "id": "AOQ9p5t9IpzZ",
        "outputId": "d9d84a78-dc44-4928-c152-27295cc0b0fc"
      },
      "execution_count": null,
      "outputs": [
        {
          "output_type": "stream",
          "name": "stdout",
          "text": [
            "{32, 34, 67, 98, 12, 45, 23, 63}\n"
          ]
        }
      ]
    },
    {
      "cell_type": "markdown",
      "source": [
        "Dictionaries"
      ],
      "metadata": {
        "id": "JKzvT_tNI7--"
      }
    },
    {
      "cell_type": "markdown",
      "source": [
        "1.Create a dictionary and print keys & values"
      ],
      "metadata": {
        "id": "d4GlT5E4JCPW"
      }
    },
    {
      "cell_type": "code",
      "source": [
        "my_dict = {'apple': 10, 'banana': 5, 'orange': 8}\n",
        "print(\"Keys:\", my_dict.keys())\n",
        "print(\"Values:\", my_dict.values())"
      ],
      "metadata": {
        "colab": {
          "base_uri": "https://localhost:8080/"
        },
        "id": "Dumh1ih5Ixpf",
        "outputId": "b7f4bc64-3dd0-4050-bc80-907c83a5787a"
      },
      "execution_count": null,
      "outputs": [
        {
          "output_type": "stream",
          "name": "stdout",
          "text": [
            "Keys: dict_keys(['apple', 'banana', 'orange'])\n",
            "Values: dict_values([10, 5, 8])\n"
          ]
        }
      ]
    },
    {
      "cell_type": "markdown",
      "source": [
        "2.Find the sum of dictionary values"
      ],
      "metadata": {
        "id": "-y-adjjQJmx2"
      }
    },
    {
      "cell_type": "code",
      "source": [
        "My_dict={\"AK\":47,\"LOK\": 38,\"AMN\":76,\"FCK\":82}\n",
        "total = 0\n",
        "for value in My_dict.values():\n",
        "    total += value\n",
        "print(\"Sum of values:\", total)\n"
      ],
      "metadata": {
        "colab": {
          "base_uri": "https://localhost:8080/"
        },
        "id": "o_stk8CMJkGZ",
        "outputId": "0c6f8e3f-f0fd-4aa3-b94b-f2498193b9b6"
      },
      "execution_count": null,
      "outputs": [
        {
          "output_type": "stream",
          "name": "stdout",
          "text": [
            "Sum of values: 243\n"
          ]
        }
      ]
    },
    {
      "cell_type": "markdown",
      "source": [
        "3.Merge two dictionaries"
      ],
      "metadata": {
        "id": "ctMiq3sRJ7FD"
      }
    },
    {
      "cell_type": "code",
      "source": [
        "dict1 = {'L': 10, 'O': 5}\n",
        "dict2 = {'K': 3, 'I': 7}\n",
        "\n",
        "merged = dict1 | dict2\n",
        "print(\"Merged dictionary:\", merged)"
      ],
      "metadata": {
        "colab": {
          "base_uri": "https://localhost:8080/"
        },
        "id": "v31730UaJ0sn",
        "outputId": "0b94a2b0-47ba-4402-b300-141016efab0e"
      },
      "execution_count": null,
      "outputs": [
        {
          "output_type": "stream",
          "name": "stdout",
          "text": [
            "Merged dictionary: {'L': 10, 'O': 5, 'K': 3, 'I': 7}\n"
          ]
        }
      ]
    },
    {
      "cell_type": "markdown",
      "source": [
        "4.Sort a dictionary by its values"
      ],
      "metadata": {
        "id": "EXpvYs8sKR-y"
      }
    },
    {
      "cell_type": "code",
      "source": [
        "my_dict = {\"apple\": 50, \"banana\": 20, \"cherry\": 30}\n",
        "\n",
        "sorted_dict = dict(sorted(my_dict.items(), key=lambda item: item[1]))\n",
        "print(\"Dictionary sorted by values:\", sorted_dict)\n",
        "\n",
        "sorted_dict_desc = dict(sorted(my_dict.items(), key=lambda item: item[1], reverse=True))\n",
        "print(\"Dictionary sorted by values (descending):\", sorted_dict_desc)"
      ],
      "metadata": {
        "colab": {
          "base_uri": "https://localhost:8080/"
        },
        "id": "sGsUuYMLKNB1",
        "outputId": "02aa818d-636d-4931-90fc-6108619513b7"
      },
      "execution_count": null,
      "outputs": [
        {
          "output_type": "stream",
          "name": "stdout",
          "text": [
            "Dictionary sorted by values: {'banana': 20, 'cherry': 30, 'apple': 50}\n",
            "Dictionary sorted by values (descending): {'apple': 50, 'cherry': 30, 'banana': 20}\n"
          ]
        }
      ]
    },
    {
      "cell_type": "markdown",
      "source": [
        "5.Count the occurrences of elements in a dictionary"
      ],
      "metadata": {
        "id": "UhvxOJj4LIGF"
      }
    },
    {
      "cell_type": "code",
      "source": [
        "items = ['apple', 'banana', 'apple', 'orange', 'banana', 'apple']\n",
        "mydict = {}\n",
        "for i in items:\n",
        "    mydict[i] = mydict.get(i, 0) + 1\n",
        "print(mydict)"
      ],
      "metadata": {
        "colab": {
          "base_uri": "https://localhost:8080/"
        },
        "id": "6nYoriq3KtSJ",
        "outputId": "608fd5be-48fa-44c1-cbe1-d368ea283abf"
      },
      "execution_count": null,
      "outputs": [
        {
          "output_type": "stream",
          "name": "stdout",
          "text": [
            "{'apple': 3, 'banana': 2, 'orange': 1}\n"
          ]
        }
      ]
    },
    {
      "cell_type": "markdown",
      "source": [
        "Mathematical Programs"
      ],
      "metadata": {
        "id": "cHoMMOGhLWHT"
      }
    },
    {
      "cell_type": "markdown",
      "source": [
        "1.Check if a number is prime or not"
      ],
      "metadata": {
        "id": "Cz41Hd6LLlPj"
      }
    },
    {
      "cell_type": "code",
      "source": [
        "num = int(input(\"Enter a number: \"))\n",
        "\n",
        "if num <= 1:\n",
        "    print(\"Not a prime number\")\n",
        "else:\n",
        "    for i in range(2, int(num**0.5) + 1):\n",
        "        if num % i == 0:\n",
        "            print(\"Not a prime number\")\n",
        "            break\n",
        "    else:\n",
        "        print(\"Prime number\")\n"
      ],
      "metadata": {
        "colab": {
          "base_uri": "https://localhost:8080/"
        },
        "id": "k4qpsBDDLP2B",
        "outputId": "bd31045d-b54b-4e96-eb81-e9720750d8c6"
      },
      "execution_count": null,
      "outputs": [
        {
          "output_type": "stream",
          "name": "stdout",
          "text": [
            "Enter a number: 98\n",
            "Not a prime number\n"
          ]
        }
      ]
    },
    {
      "cell_type": "markdown",
      "source": [
        "2.Find the sum of digits of a number"
      ],
      "metadata": {
        "id": "zRaCL7CeL3r5"
      }
    },
    {
      "cell_type": "code",
      "source": [
        "num = int(input(\"Enter a number: \"))\n",
        "sum_digits = 0\n",
        "temp = num\n",
        "\n",
        "while temp > 0:\n",
        "    sum_digits += temp % 10\n",
        "    temp //= 10\n",
        "\n",
        "print(\"Sum of digits:\", sum_digits)\n"
      ],
      "metadata": {
        "colab": {
          "base_uri": "https://localhost:8080/"
        },
        "id": "11H5Xcc3Lx6R",
        "outputId": "165a9be8-dd82-4856-f547-125f9247eb4e"
      },
      "execution_count": null,
      "outputs": [
        {
          "output_type": "stream",
          "name": "stdout",
          "text": [
            "Enter a number: 1234\n",
            "Sum of digits: 10\n"
          ]
        }
      ]
    },
    {
      "cell_type": "markdown",
      "source": [
        "3.Find the LCM of two numbers"
      ],
      "metadata": {
        "id": "vy9zqI_HMGwG"
      }
    },
    {
      "cell_type": "code",
      "source": [
        "a = int(input(\"Enter first number: \"))\n",
        "b = int(input(\"Enter second number: \"))\n",
        "\n",
        "# Find LCM\n",
        "lcm = a if a > b else b\n",
        "while True:\n",
        "    if lcm % a == 0 and lcm % b == 0:\n",
        "        break\n",
        "    lcm += 1\n",
        "\n",
        "print(\"LCM of\", a, \"and\", b, \"is:\", lcm)\n"
      ],
      "metadata": {
        "colab": {
          "base_uri": "https://localhost:8080/"
        },
        "id": "f6ezEQpTMArz",
        "outputId": "ee8163d5-d8e8-4fd6-a4d7-862ea6539e91"
      },
      "execution_count": null,
      "outputs": [
        {
          "output_type": "stream",
          "name": "stdout",
          "text": [
            "Enter first number: 12\n",
            "Enter second number: 48\n",
            "LCM of 12 and 48 is: 48\n"
          ]
        }
      ]
    },
    {
      "cell_type": "markdown",
      "source": [
        "4.Find the GCD of two numbers"
      ],
      "metadata": {
        "id": "l-iO6SpEMa4a"
      }
    },
    {
      "cell_type": "code",
      "source": [
        "a = int(input(\"Enter first number: \"))\n",
        "b = int(input(\"Enter second number: \"))\n",
        "\n",
        "while b != 0:\n",
        "    a, b = b, a % b\n",
        "\n",
        "print(\"GCD is:\", a)"
      ],
      "metadata": {
        "colab": {
          "base_uri": "https://localhost:8080/"
        },
        "id": "sE54qAXxMTSU",
        "outputId": "6e799155-5c78-43a6-a5a6-13405f1036dc"
      },
      "execution_count": null,
      "outputs": [
        {
          "output_type": "stream",
          "name": "stdout",
          "text": [
            "Enter first number: 12\n",
            "Enter second number: 48\n",
            "GCD is: 12\n"
          ]
        }
      ]
    },
    {
      "cell_type": "markdown",
      "source": [
        "Functions"
      ],
      "metadata": {
        "id": "Y9n9c_DmMl9f"
      }
    },
    {
      "cell_type": "markdown",
      "source": [
        "1.Define a function to find the sum of two numbers"
      ],
      "metadata": {
        "id": "9fTs-F6DMrXX"
      }
    },
    {
      "cell_type": "code",
      "source": [
        "def add_numbers(a, b):\n",
        "    return a + b\n",
        "print(add_numbers(5, 7))"
      ],
      "metadata": {
        "colab": {
          "base_uri": "https://localhost:8080/"
        },
        "id": "-C5jtYiwMghF",
        "outputId": "bf9b9f0a-4636-46de-a82f-888bae2eacbe"
      },
      "execution_count": null,
      "outputs": [
        {
          "output_type": "stream",
          "name": "stdout",
          "text": [
            "12\n"
          ]
        }
      ]
    },
    {
      "cell_type": "markdown",
      "source": [
        "2.Define a function to return the square of a number"
      ],
      "metadata": {
        "id": "i28td5wxMyhe"
      }
    },
    {
      "cell_type": "code",
      "source": [
        "def square(num):\n",
        "    return num **2\n",
        "print(square(16))"
      ],
      "metadata": {
        "colab": {
          "base_uri": "https://localhost:8080/"
        },
        "id": "uBQ_r3C_MvjL",
        "outputId": "1f298d0b-3ad8-486d-d5c7-548a86dbcd52"
      },
      "execution_count": null,
      "outputs": [
        {
          "output_type": "stream",
          "name": "stdout",
          "text": [
            "256\n"
          ]
        }
      ]
    },
    {
      "cell_type": "markdown",
      "source": [
        "3.Define a function with default arguments"
      ],
      "metadata": {
        "id": "EwUfOYJ7M5d5"
      }
    },
    {
      "cell_type": "code",
      "source": [
        "\n",
        "def greet(name=\"Guest\", msg=\"Welcome!\"):\n",
        "    print(f\"Hello {name}, {msg}\")\n",
        "\n",
        "greet()\n",
        "greet(\"lokesh\", \"have a nice day\")"
      ],
      "metadata": {
        "colab": {
          "base_uri": "https://localhost:8080/"
        },
        "id": "OHF1jY_dM2ob",
        "outputId": "f4057a2b-c250-4a34-b47f-157733804c30"
      },
      "execution_count": null,
      "outputs": [
        {
          "output_type": "stream",
          "name": "stdout",
          "text": [
            "Hello Guest, Welcome!\n",
            "Hello lokesh, have a nice day\n"
          ]
        }
      ]
    },
    {
      "cell_type": "markdown",
      "source": [
        "4.Define a function with variable-length arguments"
      ],
      "metadata": {
        "id": "GAoj8J2HN6HN"
      }
    },
    {
      "cell_type": "code",
      "source": [
        "def add_multiple_nums(*numbers):\n",
        "    total = 0\n",
        "    for n in numbers:\n",
        "        total += n\n",
        "    return total\n",
        "\n",
        "print(add_multiple_nums(1, 2, 3, 4, 5))\n",
        "print(add_multiple_nums(5, 10, 15, 20))"
      ],
      "metadata": {
        "colab": {
          "base_uri": "https://localhost:8080/"
        },
        "id": "HPl7znv5NbDQ",
        "outputId": "3c95feab-f091-45db-c222-0c2c90213f46"
      },
      "execution_count": null,
      "outputs": [
        {
          "output_type": "stream",
          "name": "stdout",
          "text": [
            "15\n",
            "50\n"
          ]
        }
      ]
    },
    {
      "cell_type": "markdown",
      "source": [
        "5.Define a function that returns multiple values"
      ],
      "metadata": {
        "id": "rNlQoP8COXlJ"
      }
    },
    {
      "cell_type": "code",
      "source": [
        "def calculate(a, b):\n",
        "    sum_val = a + b\n",
        "    diff_val = a - b\n",
        "    prod_val = a * b\n",
        "    return sum_val, diff_val, prod_val\n",
        "\n",
        "s, d, p = calculate(10, 5)\n",
        "print(\"Sum:\", s)\n",
        "print(\"Difference:\", d)\n",
        "print(\"Product:\", p)\n"
      ],
      "metadata": {
        "colab": {
          "base_uri": "https://localhost:8080/"
        },
        "id": "B0SARkohORr5",
        "outputId": "3ef40f93-db3d-41d5-808d-7f4594e8ec90"
      },
      "execution_count": null,
      "outputs": [
        {
          "output_type": "stream",
          "name": "stdout",
          "text": [
            "Sum: 15\n",
            "Difference: 5\n",
            "Product: 50\n"
          ]
        }
      ]
    },
    {
      "cell_type": "markdown",
      "source": [
        "Lambda Functions"
      ],
      "metadata": {
        "id": "4BRahfm_Ojac"
      }
    },
    {
      "cell_type": "markdown",
      "source": [
        "1.Use a lambda function to add two numbers"
      ],
      "metadata": {
        "id": "3NKPtjHhOnLX"
      }
    },
    {
      "cell_type": "code",
      "source": [
        "add = lambda a, b: a + b\n",
        "print(add(15, 7))"
      ],
      "metadata": {
        "colab": {
          "base_uri": "https://localhost:8080/"
        },
        "id": "Nzvc9NwWOgiZ",
        "outputId": "a224c5ff-cf99-46f1-f53e-d952f3b01d95"
      },
      "execution_count": null,
      "outputs": [
        {
          "output_type": "stream",
          "name": "stdout",
          "text": [
            "22\n"
          ]
        }
      ]
    },
    {
      "cell_type": "markdown",
      "source": [
        "2.Use a lambda function to find the maximum of two numbers"
      ],
      "metadata": {
        "id": "6lk7kRZzPQ0c"
      }
    },
    {
      "cell_type": "code",
      "source": [
        "maximum = lambda a, b: a if a > b else b\n",
        "print(maximum(10, 65))"
      ],
      "metadata": {
        "colab": {
          "base_uri": "https://localhost:8080/"
        },
        "id": "NrgIm4IHOwbe",
        "outputId": "46e901c0-2b6e-4973-abd8-8fc74c916e18"
      },
      "execution_count": null,
      "outputs": [
        {
          "output_type": "stream",
          "name": "stdout",
          "text": [
            "65\n"
          ]
        }
      ]
    },
    {
      "cell_type": "markdown",
      "source": [
        "3.Use a lambda function to square a number"
      ],
      "metadata": {
        "id": "W_HRm5ufPZ2T"
      }
    },
    {
      "cell_type": "code",
      "source": [
        "square = lambda x: x **2\n",
        "\n",
        "print(square(14))"
      ],
      "metadata": {
        "colab": {
          "base_uri": "https://localhost:8080/"
        },
        "id": "JGnJKAqcPWQ-",
        "outputId": "8af9d698-bad9-4d70-afcf-767945990075"
      },
      "execution_count": null,
      "outputs": [
        {
          "output_type": "stream",
          "name": "stdout",
          "text": [
            "196\n"
          ]
        }
      ]
    },
    {
      "cell_type": "markdown",
      "source": [
        "4.Use a lambda function inside map()"
      ],
      "metadata": {
        "id": "lV07B_F1Pfn_"
      }
    },
    {
      "cell_type": "code",
      "source": [
        "nums = [1, 2, 3, 4, 5]\n",
        "squared_nums = list(map(lambda x: x**2, nums))\n",
        "\n",
        "print(squared_nums)"
      ],
      "metadata": {
        "colab": {
          "base_uri": "https://localhost:8080/"
        },
        "id": "buhibi8YPde1",
        "outputId": "b8c18c9c-045b-43e3-babe-9076f88dd7fd"
      },
      "execution_count": null,
      "outputs": [
        {
          "output_type": "stream",
          "name": "stdout",
          "text": [
            "[1, 4, 9, 16, 25]\n"
          ]
        }
      ]
    },
    {
      "cell_type": "markdown",
      "source": [
        "5.Use a lambda function inside filter()"
      ],
      "metadata": {
        "id": "YxSr_ErjPnAV"
      }
    },
    {
      "cell_type": "code",
      "source": [
        "nums = [1, 2, 3, 4, 5, 6]\n",
        "even_nums = list(filter(lambda x: x % 2 == 0, nums))\n",
        "print(even_nums)"
      ],
      "metadata": {
        "colab": {
          "base_uri": "https://localhost:8080/"
        },
        "id": "W1wI49uPPkC6",
        "outputId": "37676152-34bc-413e-8a22-791c9a472d55"
      },
      "execution_count": null,
      "outputs": [
        {
          "output_type": "stream",
          "name": "stdout",
          "text": [
            "[2, 4, 6]\n"
          ]
        }
      ]
    },
    {
      "cell_type": "code",
      "source": [
        "#cubed_events\n",
        "nums = [1, 2, 3, 4, 5, 6,7,8,9]\n",
        "cubed_evens = list(map(lambda x: x**3, filter(lambda x: x % 2 == 0, nums)))\n",
        "print(cubed_evens)"
      ],
      "metadata": {
        "colab": {
          "base_uri": "https://localhost:8080/"
        },
        "id": "_gAWxN-UPtqo",
        "outputId": "d74f8d4a-8171-4814-8b78-126da1e18c41"
      },
      "execution_count": null,
      "outputs": [
        {
          "output_type": "stream",
          "name": "stdout",
          "text": [
            "[8, 64, 216, 512]\n"
          ]
        }
      ]
    },
    {
      "cell_type": "markdown",
      "source": [
        "List Comprehensions"
      ],
      "metadata": {
        "id": "Rb8f7ch7P--a"
      }
    },
    {
      "cell_type": "markdown",
      "source": [
        "1.Generate a list of squares using list comprehension"
      ],
      "metadata": {
        "id": "xsYmqLePQAGb"
      }
    },
    {
      "cell_type": "code",
      "source": [
        "nums = [1, 2, 3, 4, 5,6,7,8,9]\n",
        "squares = [x**2 for x in nums]\n",
        "print(squares)"
      ],
      "metadata": {
        "colab": {
          "base_uri": "https://localhost:8080/"
        },
        "id": "AsvRG9uBP8UB",
        "outputId": "a09d5059-df63-4386-82ed-48f8187de4bc"
      },
      "execution_count": null,
      "outputs": [
        {
          "output_type": "stream",
          "name": "stdout",
          "text": [
            "[1, 4, 9, 16, 25, 36, 49, 64, 81]\n"
          ]
        }
      ]
    },
    {
      "cell_type": "markdown",
      "source": [
        "2.Generate a list of even numbers using list comprehension"
      ],
      "metadata": {
        "id": "9rcx15QWQK9D"
      }
    },
    {
      "cell_type": "code",
      "source": [
        "nums=[2,13,15,16,28,32,47,66,88,99]\n",
        "evens=[i for i in nums if i%2==0]\n",
        "print(evens)"
      ],
      "metadata": {
        "colab": {
          "base_uri": "https://localhost:8080/"
        },
        "id": "ik2kDSIyQMMq",
        "outputId": "94f8bfe9-4f32-4d5c-97b1-891371b29cd4"
      },
      "execution_count": null,
      "outputs": [
        {
          "output_type": "stream",
          "name": "stdout",
          "text": [
            "[2, 16, 28, 32, 66, 88]\n"
          ]
        }
      ]
    },
    {
      "cell_type": "markdown",
      "source": [
        "3.Reverse a list using list comprehension"
      ],
      "metadata": {
        "id": "5uFx2g4nQV35"
      }
    },
    {
      "cell_type": "code",
      "source": [
        "mylist=[\"abc\",12,67,89,4,11,45.6,\"xyz\"]\n",
        "rev_list = [x for x in mylist[::-1]]\n",
        "print(rev_list)"
      ],
      "metadata": {
        "colab": {
          "base_uri": "https://localhost:8080/"
        },
        "id": "Of8lFAtgQXT1",
        "outputId": "68b3b560-a870-47c3-9505-412bdcfadb34"
      },
      "execution_count": null,
      "outputs": [
        {
          "output_type": "stream",
          "name": "stdout",
          "text": [
            "['xyz', 45.6, 11, 4, 89, 67, 12, 'abc']\n"
          ]
        }
      ]
    },
    {
      "cell_type": "markdown",
      "source": [
        "4.Flatten a nested list using list comprehension"
      ],
      "metadata": {
        "id": "nl8mFBEzQkWW"
      }
    },
    {
      "cell_type": "code",
      "source": [
        "nested_list = [[1, 2], [3, 4], [5, 6]]\n",
        "flat_list = [item for sublist in nested_list for item in sublist]\n",
        "print(\"Flattened list:\", flat_list)\n"
      ],
      "metadata": {
        "colab": {
          "base_uri": "https://localhost:8080/"
        },
        "id": "FQVkv6mQQmQ2",
        "outputId": "e5e498a3-1dbd-4bb0-90df-6312f92a3d08"
      },
      "execution_count": null,
      "outputs": [
        {
          "output_type": "stream",
          "name": "stdout",
          "text": [
            "Flattened list: [1, 2, 3, 4, 5, 6]\n"
          ]
        }
      ]
    },
    {
      "cell_type": "markdown",
      "source": [
        "5.Find common elements in two lists using list comprehension"
      ],
      "metadata": {
        "id": "nsUUUhivQ0M8"
      }
    },
    {
      "cell_type": "code",
      "source": [
        "list1 = [1, 2, 3, 4, 5]\n",
        "list2 = [3, 4, 5, 6, 7]\n",
        "\n",
        "common = [x for x in list1 if x in list2]\n",
        "print(\"Common elements:\", common)\n"
      ],
      "metadata": {
        "colab": {
          "base_uri": "https://localhost:8080/"
        },
        "id": "TOhfcInpQ1aQ",
        "outputId": "3b95ac39-51af-406d-b799-e19179c4fca1"
      },
      "execution_count": null,
      "outputs": [
        {
          "output_type": "stream",
          "name": "stdout",
          "text": [
            "Common elements: [3, 4, 5]\n"
          ]
        }
      ]
    },
    {
      "cell_type": "markdown",
      "source": [
        "\n",
        "Miscellaneous"
      ],
      "metadata": {
        "id": "Lex35TECRgTf"
      }
    },
    {
      "cell_type": "markdown",
      "source": [
        "1.Swap two numbers without using a third variable"
      ],
      "metadata": {
        "id": "mJ6h6elrRiNv"
      }
    },
    {
      "cell_type": "code",
      "source": [
        "a=1\n",
        "b=6\n",
        "a=a+b\n",
        "b=a-b\n",
        "a=a-b\n",
        "print(a,b)"
      ],
      "metadata": {
        "colab": {
          "base_uri": "https://localhost:8080/"
        },
        "id": "1U5eIoR7RxW3",
        "outputId": "4f74348f-0902-449b-ec11-6e48ef542083"
      },
      "execution_count": null,
      "outputs": [
        {
          "output_type": "stream",
          "name": "stdout",
          "text": [
            "6 1\n"
          ]
        }
      ]
    },
    {
      "cell_type": "markdown",
      "source": [
        "2.Count occurrences of each word in a sentence"
      ],
      "metadata": {
        "id": "RAVDuuUJSYOQ"
      }
    },
    {
      "cell_type": "code",
      "source": [
        "sentence = \"Data science and machine learning are fun and data is powerful \"\n",
        "words = sentence.split()\n",
        "word_count = {}\n",
        "\n",
        "for word in words:\n",
        "    if word in word_count:\n",
        "        word_count[word] += 1\n",
        "    else:\n",
        "        word_count[word] = 1\n",
        "\n",
        "print(\"Word occurrences:\", word_count)\n"
      ],
      "metadata": {
        "colab": {
          "base_uri": "https://localhost:8080/"
        },
        "id": "liU2oqf_SnMp",
        "outputId": "9e5954a3-f234-4816-b4bc-7725515ff525"
      },
      "execution_count": null,
      "outputs": [
        {
          "output_type": "stream",
          "name": "stdout",
          "text": [
            "Word occurrences: {'Data': 1, 'science': 1, 'and': 2, 'machine': 1, 'learning': 1, 'are': 1, 'fun': 1, 'data': 1, 'is': 1, 'powerful': 1}\n"
          ]
        }
      ]
    },
    {
      "cell_type": "markdown",
      "source": [
        "3.Find the second largest number in a list"
      ],
      "metadata": {
        "id": "7zInYxLPSckX"
      }
    },
    {
      "cell_type": "code",
      "source": [
        "nums = [10, 20, 4, 19,10 ,47, 99]\n",
        "unique_nums = list(set(nums))\n",
        "unique_nums.sort()\n",
        "second_largest = unique_nums[-2]\n",
        "print(second_largest)\n"
      ],
      "metadata": {
        "colab": {
          "base_uri": "https://localhost:8080/"
        },
        "id": "DHkgCgbLUFY6",
        "outputId": "56f1bdc0-40da-4745-d1e3-65a47f7e75a9"
      },
      "execution_count": null,
      "outputs": [
        {
          "output_type": "stream",
          "name": "stdout",
          "text": [
            "47\n"
          ]
        }
      ]
    },
    {
      "cell_type": "markdown",
      "source": [
        "4.Check if two strings are anagrams"
      ],
      "metadata": {
        "id": "-0ijHixgSfXZ"
      }
    },
    {
      "cell_type": "code",
      "source": [
        "str1 = \"listen\"\n",
        "str2 = \"silent\"\n",
        "\n",
        "if sorted(str1) == sorted(str2):\n",
        "    print(\"The strings are anagrams\")\n",
        "else:\n",
        "    print(\"The strings are not anagrams\")\n"
      ],
      "metadata": {
        "colab": {
          "base_uri": "https://localhost:8080/"
        },
        "id": "qdGlj_lMUN7w",
        "outputId": "6fb26f2b-8f11-4a4b-c7bc-4e3166758ec6"
      },
      "execution_count": null,
      "outputs": [
        {
          "output_type": "stream",
          "name": "stdout",
          "text": [
            "The strings are anagrams\n"
          ]
        }
      ]
    },
    {
      "cell_type": "markdown",
      "source": [
        "5.Print Pascal's Triangle"
      ],
      "metadata": {
        "id": "5AGhitqDSkRD"
      }
    },
    {
      "cell_type": "code",
      "source": [
        "def pascal_triangle(n):\n",
        "    for i in range(n):\n",
        "        num = 1\n",
        "        print(' ' * (n - i), end='')\n",
        "        for j in range(i + 1):\n",
        "            print(num, end=' ')\n",
        "            num = num * (i - j) // (j + 1)\n",
        "        print()\n",
        "\n",
        "rows = int(input(\"Enter number of rows: \"))\n",
        "pascal_triangle(rows)\n"
      ],
      "metadata": {
        "colab": {
          "base_uri": "https://localhost:8080/"
        },
        "id": "EeHVexJ2QGVG",
        "outputId": "9647eb15-6efc-491c-f6db-321d85fdea3a"
      },
      "execution_count": null,
      "outputs": [
        {
          "output_type": "stream",
          "name": "stdout",
          "text": [
            "Enter number of rows: 5\n",
            "     1 \n",
            "    1 1 \n",
            "   1 2 1 \n",
            "  1 3 3 1 \n",
            " 1 4 6 4 1 \n"
          ]
        }
      ]
    },
    {
      "cell_type": "code",
      "source": [],
      "metadata": {
        "id": "XthwRkx4UlWg"
      },
      "execution_count": null,
      "outputs": []
    }
  ]
}