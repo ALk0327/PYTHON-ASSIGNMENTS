{
  "nbformat": 4,
  "nbformat_minor": 0,
  "metadata": {
    "colab": {
      "provenance": []
    },
    "kernelspec": {
      "name": "python3",
      "display_name": "Python 3"
    },
    "language_info": {
      "name": "python"
    }
  },
  "cells": [
    {
      "cell_type": "markdown",
      "source": [
        "Topic 1 — Functions (def) & Lambda Functions\n"
      ],
      "metadata": {
        "id": "e_mp35_R6vRt"
      }
    },
    {
      "cell_type": "markdown",
      "source": [
        "Part A — Basic Function Concepts (Single Return Values)"
      ],
      "metadata": {
        "id": "030nmvln6405"
      }
    },
    {
      "cell_type": "markdown",
      "source": [
        "1.\tWrite a function wish(name) that returns \"Hello, Good Morning <name>!\"."
      ],
      "metadata": {
        "id": "97kzMnA369QF"
      }
    },
    {
      "cell_type": "code",
      "source": [
        "def wish(name):\n",
        "  print(f\"Hello,Good Morning {name} !\")\n",
        "wish(\"Tom\")"
      ],
      "metadata": {
        "colab": {
          "base_uri": "https://localhost:8080/"
        },
        "id": "Z9WKAwLj6-yG",
        "outputId": "89b82f60-50c0-4524-928b-4b3b9dea6989"
      },
      "execution_count": null,
      "outputs": [
        {
          "output_type": "stream",
          "name": "stdout",
          "text": [
            "Hello,Good Morning Tom !\n"
          ]
        }
      ]
    },
    {
      "cell_type": "markdown",
      "source": [
        "2.\tWrite a function cube(n) that returns the cube of a number (n³)."
      ],
      "metadata": {
        "id": "VFo7moEl78Z8"
      }
    },
    {
      "cell_type": "code",
      "source": [
        "def cube(n):\n",
        "  print(n**3)\n",
        "cube(6)"
      ],
      "metadata": {
        "colab": {
          "base_uri": "https://localhost:8080/"
        },
        "id": "Z2_0RgeP61Tm",
        "outputId": "802deab5-a19a-4e56-afc3-c736c7c5d436"
      },
      "execution_count": null,
      "outputs": [
        {
          "output_type": "stream",
          "name": "stdout",
          "text": [
            "216\n"
          ]
        }
      ]
    },
    {
      "cell_type": "markdown",
      "source": [
        "3.\tWrite a function check_even(n) that returns True if the number is even, else False."
      ],
      "metadata": {
        "id": "PfP9jpH-8I8a"
      }
    },
    {
      "cell_type": "code",
      "source": [
        "def check_even(n=int(input(\"enter a number\"))):\n",
        "  if n%2==0:\n",
        "    print(\"True\")\n",
        "  else:\n",
        "    print(\"False\")\n",
        "check_even()"
      ],
      "metadata": {
        "colab": {
          "base_uri": "https://localhost:8080/"
        },
        "id": "p2Kpl_be8Lhe",
        "outputId": "5c039348-2ff0-4e01-965d-69a468ce39ab"
      },
      "execution_count": null,
      "outputs": [
        {
          "output_type": "stream",
          "name": "stdout",
          "text": [
            "enter a number8\n",
            "True\n"
          ]
        }
      ]
    },
    {
      "cell_type": "markdown",
      "source": [
        "4.\tWrite a function greatest_of_two(a, b) that returns the larger of two numbers."
      ],
      "metadata": {
        "id": "5QHVfWtt85At"
      }
    },
    {
      "cell_type": "code",
      "source": [
        "def greatest_of_two():\n",
        "  a = int(input(\"enter a number\"))\n",
        "  b = int(input(\"enter a number\"))\n",
        "  if a > b:\n",
        "    print(a)\n",
        "  else:\n",
        "    print(b)\n",
        "greatest_of_two()"
      ],
      "metadata": {
        "colab": {
          "base_uri": "https://localhost:8080/"
        },
        "id": "YPJaG53E8F7c",
        "outputId": "b3981402-01f7-4db3-8268-1ed59b59fd48"
      },
      "execution_count": null,
      "outputs": [
        {
          "output_type": "stream",
          "name": "stdout",
          "text": [
            "enter a number10\n",
            "enter a number20\n",
            "20\n"
          ]
        }
      ]
    },
    {
      "cell_type": "markdown",
      "source": [
        "5.\tWrite a function count_letters(s) that returns the number of characters in a string."
      ],
      "metadata": {
        "id": "2ch_tiLj9oKn"
      }
    },
    {
      "cell_type": "code",
      "source": [
        "def count_letters():\n",
        "  n = input(\"enter a word:\")\n",
        "  print(len(n))\n",
        "count_letters()"
      ],
      "metadata": {
        "colab": {
          "base_uri": "https://localhost:8080/"
        },
        "id": "3JRl0Ik79uE4",
        "outputId": "73129bdc-5eb3-4c90-e5e2-73012aae7107"
      },
      "execution_count": null,
      "outputs": [
        {
          "output_type": "stream",
          "name": "stdout",
          "text": [
            "enter a word:hello\n",
            "5\n"
          ]
        }
      ]
    },
    {
      "cell_type": "markdown",
      "source": [
        "6.\tWrite a function power(value, exp=2) that returns the number raised to the power exp. (Default exponent = 2)"
      ],
      "metadata": {
        "id": "ohm-Zc5A-SdU"
      }
    },
    {
      "cell_type": "code",
      "source": [
        "def power(value,exp=2):\n",
        "  print(value**exp)\n",
        "power(int(input(\"Enter a value: \")))"
      ],
      "metadata": {
        "colab": {
          "base_uri": "https://localhost:8080/"
        },
        "id": "tiEZJwrQ-TUr",
        "outputId": "3b14c1ac-c6fb-4f68-f8a0-335938a01365"
      },
      "execution_count": null,
      "outputs": [
        {
          "output_type": "stream",
          "name": "stdout",
          "text": [
            "Enter a value: 45\n",
            "2025\n"
          ]
        }
      ]
    },
    {
      "cell_type": "markdown",
      "source": [
        "Returning Multiple Values"
      ],
      "metadata": {
        "id": "2pjLfFL_-w9S"
      }
    },
    {
      "cell_type": "markdown",
      "source": [
        "7.\tWrite a function swap(a, b) that returns the two values swapped as a tuple."
      ],
      "metadata": {
        "id": "bImYMR_Y-1Wg"
      }
    },
    {
      "cell_type": "code",
      "source": [
        "def swap(a,b):\n",
        "  a,b=b,a\n",
        "  return a,b\n",
        "a= int(input(\"Enter the first value: \"))\n",
        "b= int(input(\"Enter the second value: \"))\n",
        "result = swap(a, b)\n",
        "print(result)"
      ],
      "metadata": {
        "colab": {
          "base_uri": "https://localhost:8080/"
        },
        "id": "Djhr8ekB-4Dy",
        "outputId": "ee023724-5a1a-4847-d81b-5405517148f0"
      },
      "execution_count": null,
      "outputs": [
        {
          "output_type": "stream",
          "name": "stdout",
          "text": [
            "Enter the first value: 10\n",
            "Enter the second value: 20\n",
            "(20, 10)\n"
          ]
        }
      ]
    },
    {
      "cell_type": "markdown",
      "source": [
        "8.\tWrite a function add_sub(a, b) that returns both sum and difference of two numbers."
      ],
      "metadata": {
        "id": "VKpALB4u_Wrm"
      }
    },
    {
      "cell_type": "code",
      "source": [
        "def add_sub(a,b):\n",
        "  sum = a+b\n",
        "  sub = a-b\n",
        "  return sum,sub\n",
        "\n",
        "a= int(input(\"Enter the first value: \"))\n",
        "b= int(input(\"Enter the second value: \"))\n",
        "\n",
        "result = add_sub(a, b)\n",
        "print(result)"
      ],
      "metadata": {
        "colab": {
          "base_uri": "https://localhost:8080/"
        },
        "id": "ClSzGBws_ZH8",
        "outputId": "e0546b5b-9ce4-4a70-da6b-ce44a21ded36"
      },
      "execution_count": null,
      "outputs": [
        {
          "output_type": "stream",
          "name": "stdout",
          "text": [
            "Enter the first value: 20\n",
            "Enter the second value: 30\n",
            "(50, -10)\n"
          ]
        }
      ]
    },
    {
      "cell_type": "markdown",
      "source": [
        "9.\tWrite a function circle_stats(radius) that returns the area and circumference as a tuple."
      ],
      "metadata": {
        "id": "ppIqquIY_5zu"
      }
    },
    {
      "cell_type": "code",
      "source": [
        "def circle_stats(radius):\n",
        "  area = 3.14 * radius** 2\n",
        "  circumference = 2 *3.14* radius\n",
        "  return area, circumference\n",
        "radius = float(input(\"Enter a number: \"))\n",
        "result = circle_stats(radius)\n",
        "print(result)"
      ],
      "metadata": {
        "colab": {
          "base_uri": "https://localhost:8080/"
        },
        "id": "3Q1-XMyA__g5",
        "outputId": "3c157a4c-fe53-427d-851b-42e0fdbc95cb"
      },
      "execution_count": null,
      "outputs": [
        {
          "output_type": "stream",
          "name": "stdout",
          "text": [
            "Enter a number: 7\n",
            "(153.86, 43.96)\n"
          ]
        }
      ]
    },
    {
      "cell_type": "markdown",
      "source": [
        "10.\tWrite a function min_max_sum(nums) that returns the minimum, maximum, and sum of a list."
      ],
      "metadata": {
        "id": "GiRsZGc8AhG4"
      }
    },
    {
      "cell_type": "code",
      "source": [
        "def min_max_sum(nums):\n",
        "    return min(nums), max(nums), sum(nums)\n",
        "min_max_sum([11,23,45,2])"
      ],
      "metadata": {
        "colab": {
          "base_uri": "https://localhost:8080/"
        },
        "id": "DUjPSTSRAkzb",
        "outputId": "e6442865-9406-4b49-df31-9a20f24594cd"
      },
      "execution_count": null,
      "outputs": [
        {
          "output_type": "execute_result",
          "data": {
            "text/plain": [
              "(2, 45, 81)"
            ]
          },
          "metadata": {},
          "execution_count": 25
        }
      ]
    },
    {
      "cell_type": "markdown",
      "source": [
        "— Working with Strings & Formatting"
      ],
      "metadata": {
        "id": "P5WNZ8bTA1Hs"
      }
    },
    {
      "cell_type": "markdown",
      "source": [
        "11.\tWrite a function concat(*parts) that joins multiple strings together with spaces."
      ],
      "metadata": {
        "id": "aRFUaDS5A9dn"
      }
    },
    {
      "cell_type": "code",
      "source": [
        "def concat(*parts):\n",
        "  return \" \".join(parts)\n",
        "concat(\"python\",\"programming\")"
      ],
      "metadata": {
        "colab": {
          "base_uri": "https://localhost:8080/",
          "height": 35
        },
        "id": "jTlNZMWoBCQ4",
        "outputId": "f150fd35-d0af-435d-cfeb-19f98a350cc1"
      },
      "execution_count": null,
      "outputs": [
        {
          "output_type": "execute_result",
          "data": {
            "text/plain": [
              "'python programming'"
            ],
            "application/vnd.google.colaboratory.intrinsic+json": {
              "type": "string"
            }
          },
          "metadata": {},
          "execution_count": 29
        }
      ]
    },
    {
      "cell_type": "markdown",
      "source": [
        "12.\tWrite a function format_name(first, last=\"\") that returns \"Last, First\" if last name is provided, else \"First\"."
      ],
      "metadata": {
        "id": "k7QW2BGtCDlK"
      }
    },
    {
      "cell_type": "code",
      "source": [
        "def format_name(first, last=\"\"):\n",
        "    if last:\n",
        "        return f\"{last}, {first}\"\n",
        "    else:\n",
        "        return first\n",
        "\n",
        "print(format_name(\"Lokesh\", \"Amballa\"))"
      ],
      "metadata": {
        "colab": {
          "base_uri": "https://localhost:8080/"
        },
        "id": "Hvls7HepCFpO",
        "outputId": "ea8b4151-9b4a-4caf-8aef-91505ccd3aa9"
      },
      "execution_count": null,
      "outputs": [
        {
          "output_type": "stream",
          "name": "stdout",
          "text": [
            "Amballa, Lokesh\n"
          ]
        }
      ]
    },
    {
      "cell_type": "markdown",
      "source": [
        "13.\tWrite a function greet_user(first, last) that returns a message like \"Welcome, First Last!\"."
      ],
      "metadata": {
        "id": "OObqrnx2CpEp"
      }
    },
    {
      "cell_type": "code",
      "source": [
        "def greet_user(first, last):\n",
        "    return f\"Welcome, {first} {last}!\"\n",
        "greet_user(\"lokesh\",\"Amballa\")\n"
      ],
      "metadata": {
        "colab": {
          "base_uri": "https://localhost:8080/",
          "height": 35
        },
        "id": "7v2xwYOiCsSK",
        "outputId": "5e686256-e366-46ac-dc71-7e0a39a3982f"
      },
      "execution_count": null,
      "outputs": [
        {
          "output_type": "execute_result",
          "data": {
            "text/plain": [
              "'Welcome, lokesh Amballa!'"
            ],
            "application/vnd.google.colaboratory.intrinsic+json": {
              "type": "string"
            }
          },
          "metadata": {},
          "execution_count": 31
        }
      ]
    },
    {
      "cell_type": "markdown",
      "source": [
        "— Lambda Functions"
      ],
      "metadata": {
        "id": "sQAyfnXQC9IZ"
      }
    },
    {
      "cell_type": "markdown",
      "source": [
        "14.\tWrite a lambda function to add two numbers."
      ],
      "metadata": {
        "id": "vMflgerLDBBh"
      }
    },
    {
      "cell_type": "code",
      "source": [
        "add = lambda a, b: a + b\n",
        "print(add(2, 3))"
      ],
      "metadata": {
        "colab": {
          "base_uri": "https://localhost:8080/"
        },
        "id": "IymXaZFGDEI-",
        "outputId": "4e8f12f4-1694-4d08-f482-74e27f4fcd94"
      },
      "execution_count": null,
      "outputs": [
        {
          "output_type": "stream",
          "name": "stdout",
          "text": [
            "5\n"
          ]
        }
      ]
    },
    {
      "cell_type": "markdown",
      "source": [
        "15.\tWrite a lambda function mult = lambda *args: that returns the product of all arguments."
      ],
      "metadata": {
        "id": "wSMEkafZDNzI"
      }
    },
    {
      "cell_type": "code",
      "source": [
        "import math\n",
        "mult = lambda *args: math.prod(args)\n",
        "print(mult(2, 3, 4))"
      ],
      "metadata": {
        "colab": {
          "base_uri": "https://localhost:8080/"
        },
        "id": "eRDJiAe_DSFa",
        "outputId": "fdfd2e8e-0fc5-45d3-8f4a-79a6d1b6e249"
      },
      "execution_count": null,
      "outputs": [
        {
          "output_type": "stream",
          "name": "stdout",
          "text": [
            "24\n"
          ]
        }
      ]
    },
    {
      "cell_type": "markdown",
      "source": [
        "16.\tWrite a one-line lambda expression to flatten a list of pairs like [(a,b), (c,d)] into [a, b, c, d]."
      ],
      "metadata": {
        "id": "yfK_FR81DwsX"
      }
    },
    {
      "cell_type": "code",
      "source": [
        "flatten = lambda pairs: [x for pair in pairs for x in pair]\n",
        "\n",
        "print(flatten([('a', 'b'), ('c', 'd')]))\n"
      ],
      "metadata": {
        "colab": {
          "base_uri": "https://localhost:8080/"
        },
        "id": "ifElv4PcDy_j",
        "outputId": "6b03ca38-ec40-4c8a-c3b0-883e54dd5f66"
      },
      "execution_count": null,
      "outputs": [
        {
          "output_type": "stream",
          "name": "stdout",
          "text": [
            "['a', 'b', 'c', 'd']\n"
          ]
        }
      ]
    },
    {
      "cell_type": "markdown",
      "source": [
        "— Recursive, Higher-Order & Inner Functions"
      ],
      "metadata": {
        "id": "QV27GLa8D72I"
      }
    },
    {
      "cell_type": "markdown",
      "source": [
        "17.\tWrite a recursive function factorial(n) that returns the factorial of a number."
      ],
      "metadata": {
        "id": "_aBHqv2bD-s5"
      }
    },
    {
      "cell_type": "code",
      "source": [
        "def factorial(n):\n",
        "    if n == 0 or n == 1:\n",
        "        return 1\n",
        "    else:\n",
        "        return n * factorial(n - 1)\n",
        "factorial(3)"
      ],
      "metadata": {
        "colab": {
          "base_uri": "https://localhost:8080/"
        },
        "id": "SR_f3LqQEBqn",
        "outputId": "dfdb2cb9-04a5-4d84-c5e9-03e3cea17ed3"
      },
      "execution_count": null,
      "outputs": [
        {
          "output_type": "execute_result",
          "data": {
            "text/plain": [
              "6"
            ]
          },
          "metadata": {},
          "execution_count": 35
        }
      ]
    },
    {
      "cell_type": "markdown",
      "source": [
        "18.\tWrite a function apply_twice(func, x) that applies a function twice → func(func(x))."
      ],
      "metadata": {
        "id": "N-zzfLfwEJ8O"
      }
    },
    {
      "cell_type": "code",
      "source": [
        "def apply_twice(func, x):\n",
        "    return func(func(x))\n",
        "def square(x):\n",
        "    return x * x\n",
        "apply_twice(square, 3)"
      ],
      "metadata": {
        "colab": {
          "base_uri": "https://localhost:8080/"
        },
        "id": "2xn35eCUAZD9",
        "outputId": "f232393d-7d38-4651-f06e-8744078460a6"
      },
      "execution_count": null,
      "outputs": [
        {
          "output_type": "execute_result",
          "data": {
            "text/plain": [
              "81"
            ]
          },
          "metadata": {},
          "execution_count": 36
        }
      ]
    },
    {
      "cell_type": "markdown",
      "source": [
        "19.\tWrite a function inner_demo() that defines and calls an inner function inside it."
      ],
      "metadata": {
        "id": "niww2H2bEVJg"
      }
    },
    {
      "cell_type": "code",
      "source": [
        "def inner_demo():\n",
        "    def inner_function():\n",
        "        print(\"This is an inner function.\")\n",
        "    inner_function()\n",
        "inner_demo()"
      ],
      "metadata": {
        "colab": {
          "base_uri": "https://localhost:8080/"
        },
        "id": "b9tARBjLEYZB",
        "outputId": "22b84f9c-3fd9-44ae-cb6e-510367d254b7"
      },
      "execution_count": null,
      "outputs": [
        {
          "output_type": "stream",
          "name": "stdout",
          "text": [
            "This is an inner function.\n"
          ]
        }
      ]
    },
    {
      "cell_type": "markdown",
      "source": [
        "20.\tWrite a function call_function(func, value) that takes another function as a parameter and applies it."
      ],
      "metadata": {
        "id": "szThzUupEhKN"
      }
    },
    {
      "cell_type": "code",
      "source": [
        "def call_function(func, value):\n",
        "    return func(value)\n",
        "def square(x):\n",
        "    return x * x\n",
        "value_input = int(input(\"Enter a value: \"))\n",
        "result = call_function(square, value_input)\n",
        "print(result)"
      ],
      "metadata": {
        "colab": {
          "base_uri": "https://localhost:8080/"
        },
        "id": "RMXSm3YoEkF5",
        "outputId": "89a9d03d-2922-4b3a-952a-9c23813eba5e"
      },
      "execution_count": null,
      "outputs": [
        {
          "output_type": "stream",
          "name": "stdout",
          "text": [
            "Enter a value: 6\n",
            "36\n"
          ]
        }
      ]
    },
    {
      "cell_type": "markdown",
      "source": [
        "21.\tWrite a function square_list(nums) that defines a helper function square(x) inside it and returns a list of squares."
      ],
      "metadata": {
        "id": "m6O0ErihE-IQ"
      }
    },
    {
      "cell_type": "code",
      "source": [
        "def square_list(nums):\n",
        "    def square(x):\n",
        "        return x * x\n",
        "    return [square(num) for num in nums]\n",
        "square_list([1, 2, 3, 4, 5])"
      ],
      "metadata": {
        "colab": {
          "base_uri": "https://localhost:8080/"
        },
        "id": "3cAd98NpFBZX",
        "outputId": "1b4873fe-efd1-4cdc-e820-58178070e649"
      },
      "execution_count": null,
      "outputs": [
        {
          "output_type": "execute_result",
          "data": {
            "text/plain": [
              "[1, 4, 9, 16, 25]"
            ]
          },
          "metadata": {},
          "execution_count": 41
        }
      ]
    },
    {
      "cell_type": "markdown",
      "source": [
        "— Intermediate Function Concepts"
      ],
      "metadata": {
        "id": "Y1xBhqr-FH9a"
      }
    },
    {
      "cell_type": "markdown",
      "source": [
        "22.\tWrite a function make_multiplier(m) that returns a new function which multiplies input values by m."
      ],
      "metadata": {
        "id": "z0kxUPE7FLNc"
      }
    },
    {
      "cell_type": "code",
      "source": [
        "def make_multiplier(m):\n",
        "    def multiplier(x):\n",
        "        return x * m\n",
        "    return multiplier\n",
        "multiply_by_2 = make_multiplier(2)\n",
        "print(multiply_by_2(5))"
      ],
      "metadata": {
        "colab": {
          "base_uri": "https://localhost:8080/"
        },
        "id": "HepGue-0FN4S",
        "outputId": "2b7be9ca-07a3-4ea7-bce6-dc6061523b05"
      },
      "execution_count": null,
      "outputs": [
        {
          "output_type": "stream",
          "name": "stdout",
          "text": [
            "10\n"
          ]
        }
      ]
    },
    {
      "cell_type": "markdown",
      "source": [
        "23.\tWrite a function filter_primes(nums) that filters prime numbers using a helper is_prime() function."
      ],
      "metadata": {
        "id": "K6rCqLtNG9cU"
      }
    },
    {
      "cell_type": "code",
      "source": [
        "def is_prime(n):\n",
        "    if n < 2:\n",
        "        return False\n",
        "    for i in range(2, int(n**0.5) + 1):\n",
        "        if n % i == 0:\n",
        "            return False\n",
        "    return True\n",
        "\n",
        "def filter_primes(nums):\n",
        "    return [n for n in nums if is_prime(n)]\n",
        "\n",
        "nums = list(map(int, input(\"Enter numbers: \").split()))\n",
        "print(filter_primes(nums))\n"
      ],
      "metadata": {
        "colab": {
          "base_uri": "https://localhost:8080/"
        },
        "id": "pHKU6wA2HAXu",
        "outputId": "1019989b-b7d2-48ba-eb35-7dd40ad2ebc6"
      },
      "execution_count": null,
      "outputs": [
        {
          "output_type": "stream",
          "name": "stdout",
          "text": [
            "Enter numbers: 2 3 4 5 6 \n",
            "[2, 3, 5]\n"
          ]
        }
      ]
    },
    {
      "cell_type": "markdown",
      "source": [
        "24.\tWrite a function convert_to_fahrenheit(celsius_list) using map and a lambda.\n",
        "Formula: F = C * 9/5 + 32\n"
      ],
      "metadata": {
        "id": "56fT0FimHfP9"
      }
    },
    {
      "cell_type": "code",
      "source": [
        "def convert_to_fahrenheit(celsius_list):\n",
        "    return list(map(lambda c: c * 9/5 + 32, celsius_list))\n",
        "print(convert_to_fahrenheit([123, 67, 37]))\n"
      ],
      "metadata": {
        "colab": {
          "base_uri": "https://localhost:8080/"
        },
        "id": "C84e9B1SHhxJ",
        "outputId": "cb0cd290-6f7f-46cc-a24c-928437e1741d"
      },
      "execution_count": null,
      "outputs": [
        {
          "output_type": "stream",
          "name": "stdout",
          "text": [
            "[253.4, 152.6, 98.6]\n"
          ]
        }
      ]
    },
    {
      "cell_type": "markdown",
      "source": [
        "25.\tWrite a function apply_if(func, predicate, iterable) that applies a function only to items that pass a condition."
      ],
      "metadata": {
        "id": "J0Ldy4h7IDvQ"
      }
    },
    {
      "cell_type": "code",
      "source": [
        "def apply_if(func, predicate, iterable):\n",
        "  return [func(x) if predicate(x) else x for x in iterable]\n",
        "\n",
        "nums = [1, 2, 3, 4, 5, 6]\n",
        "result = apply_if(lambda x: x**2, lambda x: x % 2 == 0, nums)\n",
        "print(result)\n"
      ],
      "metadata": {
        "colab": {
          "base_uri": "https://localhost:8080/"
        },
        "id": "bBJj92kHIGbn",
        "outputId": "0c271f9d-e434-4ab5-8091-5fb03498c0b9"
      },
      "execution_count": null,
      "outputs": [
        {
          "output_type": "stream",
          "name": "stdout",
          "text": [
            "[1, 4, 3, 16, 5, 36]\n"
          ]
        }
      ]
    },
    {
      "cell_type": "markdown",
      "source": [
        "26.\tWrite a function curry(func) that converts a two-argument function into a curried version → can be called as f(a)(b)."
      ],
      "metadata": {
        "id": "KEakV8JVIktn"
      }
    },
    {
      "cell_type": "code",
      "source": [
        "def curry(func):\n",
        "    def curried_func(a):\n",
        "        def inner_func(b):\n",
        "            return func(a, b)\n",
        "        return inner_func\n",
        "    return curried_func\n",
        "def add(a, b):\n",
        "    return a + b\n",
        "curried_add = curry(add)\n",
        "print(curried_add(5)(10))"
      ],
      "metadata": {
        "colab": {
          "base_uri": "https://localhost:8080/"
        },
        "id": "5E2t6_6IInmJ",
        "outputId": "16031211-e090-4b03-c129-35cbcdaa1398"
      },
      "execution_count": null,
      "outputs": [
        {
          "output_type": "stream",
          "name": "stdout",
          "text": [
            "15\n"
          ]
        }
      ]
    },
    {
      "cell_type": "markdown",
      "source": [
        "27.\tWrite a function variadic_sum(*args, **kwargs) that sums all positional arguments and multiplies by a scale factor if provided."
      ],
      "metadata": {
        "id": "gp1unaIlJHos"
      }
    },
    {
      "cell_type": "code",
      "source": [
        "def variadic_sum(*args, **kwargs):\n",
        "    result = sum(args)\n",
        "    if 'scale' in kwargs:\n",
        "        result *= kwargs['scale']\n",
        "    return result\n",
        "print(variadic_sum(1, 2, 3, scale=2))\n"
      ],
      "metadata": {
        "colab": {
          "base_uri": "https://localhost:8080/"
        },
        "id": "z40cjUwBJK8y",
        "outputId": "bc060eef-96ad-4999-8e4d-5a4fc0e2feba"
      },
      "execution_count": null,
      "outputs": [
        {
          "output_type": "stream",
          "name": "stdout",
          "text": [
            "12\n"
          ]
        }
      ]
    },
    {
      "cell_type": "markdown",
      "source": [
        "28.\tWrite a function sort_by_length(strings) that sorts a list of strings by their length using a lambda as key."
      ],
      "metadata": {
        "id": "U4MmIGXkJLdR"
      }
    },
    {
      "cell_type": "code",
      "source": [
        "def sort_by_length(strings):\n",
        "    return sorted(strings, key=lambda x: len(x))\n",
        "strings = [\"apple\", \"banana\", \"cherry\", \"dates\"]\n",
        "print(sort_by_length(strings))"
      ],
      "metadata": {
        "colab": {
          "base_uri": "https://localhost:8080/"
        },
        "id": "f2fu1FzyJfJq",
        "outputId": "1ba9e7bc-fe80-434b-cfa6-a3c2d990fbbf"
      },
      "execution_count": null,
      "outputs": [
        {
          "output_type": "stream",
          "name": "stdout",
          "text": [
            "['apple', 'dates', 'banana', 'cherry']\n"
          ]
        }
      ]
    },
    {
      "cell_type": "markdown",
      "source": [
        "— List Comprehensions"
      ],
      "metadata": {
        "id": "pdOL4XyiJolC"
      }
    },
    {
      "cell_type": "markdown",
      "source": [
        "— Basic Comprehension Practice"
      ],
      "metadata": {
        "id": "rw1yKjNHJrsq"
      }
    },
    {
      "cell_type": "markdown",
      "source": [
        "29.\tCreate [1,2,3,4] → list of their squares."
      ],
      "metadata": {
        "id": "u4ggC0-lJu_K"
      }
    },
    {
      "cell_type": "code",
      "source": [
        "nums = [1, 2, 3, 4]\n",
        "squares = [x**2 for x in nums]\n",
        "print(squares)\n"
      ],
      "metadata": {
        "colab": {
          "base_uri": "https://localhost:8080/"
        },
        "id": "Tm5-I5Sx9BA0",
        "outputId": "a9abcc3b-5f70-45ac-8ed6-fbf99d82814d"
      },
      "execution_count": null,
      "outputs": [
        {
          "output_type": "stream",
          "name": "stdout",
          "text": [
            "[1, 4, 9, 16]\n"
          ]
        }
      ]
    },
    {
      "cell_type": "markdown",
      "source": [
        "30.\tCreate ['a','b','c'] → list of their uppercase versions."
      ],
      "metadata": {
        "id": "_pIhwtIaJysI"
      }
    },
    {
      "cell_type": "code",
      "source": [
        "chars = ['a', 'b', 'c']\n",
        "upper_chars = [c.upper() for c in chars]\n",
        "print(upper_chars)\n"
      ],
      "metadata": {
        "colab": {
          "base_uri": "https://localhost:8080/"
        },
        "id": "tTh3dDCsJzr4",
        "outputId": "f94ae004-ad74-4b21-d634-d33765b39c13"
      },
      "execution_count": null,
      "outputs": [
        {
          "output_type": "stream",
          "name": "stdout",
          "text": [
            "['A', 'B', 'C']\n"
          ]
        }
      ]
    },
    {
      "cell_type": "markdown",
      "source": [
        "31.\tMake a list of even numbers from 1 to 20."
      ],
      "metadata": {
        "id": "qYyJ1opiJ0MH"
      }
    },
    {
      "cell_type": "code",
      "source": [
        "evens = [x for x in range(1, 21) if x % 2 == 0]\n",
        "print(evens)\n"
      ],
      "metadata": {
        "colab": {
          "base_uri": "https://localhost:8080/"
        },
        "id": "melQ-65yKLeW",
        "outputId": "2d30a2bc-2cba-4dd7-8511-c9ae6f763d72"
      },
      "execution_count": null,
      "outputs": [
        {
          "output_type": "stream",
          "name": "stdout",
          "text": [
            "[2, 4, 6, 8, 10, 12, 14, 16, 18, 20]\n"
          ]
        }
      ]
    },
    {
      "cell_type": "markdown",
      "source": [
        "32.\tGiven words = ['apple', 'bee', 'cat'], create [(word, len(word)) for word in words]."
      ],
      "metadata": {
        "id": "BEsdhwC6KVEz"
      }
    },
    {
      "cell_type": "code",
      "source": [
        "words = ['apple', 'bee', 'cat']\n",
        "word_lengths = [(word, len(word)) for word in words]\n",
        "print(word_lengths)"
      ],
      "metadata": {
        "colab": {
          "base_uri": "https://localhost:8080/"
        },
        "id": "H8YWf4c6KYpu",
        "outputId": "f1597dbc-a966-4823-e80a-af1c2c11f448"
      },
      "execution_count": null,
      "outputs": [
        {
          "output_type": "stream",
          "name": "stdout",
          "text": [
            "[('apple', 5), ('bee', 3), ('cat', 3)]\n"
          ]
        }
      ]
    },
    {
      "cell_type": "markdown",
      "source": [
        "33.\tFlatten [[1,2], [3,4], [5]] → [1,2,3,4,5]."
      ],
      "metadata": {
        "id": "SJkAESxWKZJT"
      }
    },
    {
      "cell_type": "code",
      "source": [
        "nested = [[1, 2], [3, 4], [5]]\n",
        "flat = [x for sub in nested for x in sub]\n",
        "print(flat)"
      ],
      "metadata": {
        "colab": {
          "base_uri": "https://localhost:8080/"
        },
        "id": "NMluLxY_KbL1",
        "outputId": "96fa4bcf-ddd5-4702-b2dd-16f895fabddc"
      },
      "execution_count": null,
      "outputs": [
        {
          "output_type": "stream",
          "name": "stdout",
          "text": [
            "[1, 2, 3, 4, 5]\n"
          ]
        }
      ]
    },
    {
      "cell_type": "markdown",
      "source": [
        "34.\tFrom nums = [0,1,2,3], create a list of 'even' or 'odd' strings."
      ],
      "metadata": {
        "id": "wo9nWw3OKb5F"
      }
    },
    {
      "cell_type": "code",
      "source": [
        "n = [0, 1, 2, 3]\n",
        "even_odd = ['even' if x % 2 == 0 else 'odd' for x in n]\n",
        "print(even_odd)"
      ],
      "metadata": {
        "colab": {
          "base_uri": "https://localhost:8080/"
        },
        "id": "ho7XtW7dKfJe",
        "outputId": "ca90446e-0216-45ee-f8f3-47dd5191e3f2"
      },
      "execution_count": null,
      "outputs": [
        {
          "output_type": "stream",
          "name": "stdout",
          "text": [
            "['even', 'odd', 'even', 'odd']\n"
          ]
        }
      ]
    },
    {
      "cell_type": "markdown",
      "source": [
        "35.\tUsing a comprehension, make a list of booleans showing if numbers in a list are prime (use helper function)."
      ],
      "metadata": {
        "id": "uQ9w6eZ4KeVf"
      }
    },
    {
      "cell_type": "code",
      "source": [
        "def is_prime(n):\n",
        "    if n < 2: return False\n",
        "    for i in range(2, int(n**0.5)+1):\n",
        "        if n % i == 0:\n",
        "            return False\n",
        "    return True\n",
        "n = [0, 1, 2, 3, 4, 5, 6, 7]\n",
        "prime_bools = [is_prime(x) for x in n]\n",
        "print(prime_bools)\n"
      ],
      "metadata": {
        "colab": {
          "base_uri": "https://localhost:8080/"
        },
        "id": "ne6xdfrpLKMR",
        "outputId": "463f9b16-0768-4e7b-e50c-f7b4ab10083c"
      },
      "execution_count": null,
      "outputs": [
        {
          "output_type": "stream",
          "name": "stdout",
          "text": [
            "[False, False, True, True, False, True, False, True]\n"
          ]
        }
      ]
    },
    {
      "cell_type": "markdown",
      "source": [
        "36.\tFrom range(1,50), select numbers divisible by both 2 and 3."
      ],
      "metadata": {
        "id": "qR5VEyUTKjPQ"
      }
    },
    {
      "cell_type": "code",
      "source": [
        "div_by_2_and_3 = [x for x in range(1, 50) if x % 2 == 0 and x % 3 == 0]\n",
        "print(div_by_2_and_3)"
      ],
      "metadata": {
        "colab": {
          "base_uri": "https://localhost:8080/"
        },
        "id": "l1VNoVMVLhDs",
        "outputId": "95dea1be-d538-40f7-8401-ee1535c5d28c"
      },
      "execution_count": null,
      "outputs": [
        {
          "output_type": "stream",
          "name": "stdout",
          "text": [
            "[6, 12, 18, 24, 30, 36, 42, 48]\n"
          ]
        }
      ]
    },
    {
      "cell_type": "markdown",
      "source": [
        "37.\tCreate coordinate pairs (i, j) where i and j go from 0 to 2."
      ],
      "metadata": {
        "id": "iOLoZCzFKlVK"
      }
    },
    {
      "cell_type": "code",
      "source": [
        "coords = [(i, j) for i in range(3) for j in range(3)]\n",
        "print(coords)"
      ],
      "metadata": {
        "colab": {
          "base_uri": "https://localhost:8080/"
        },
        "id": "fMB8pMiHLlOs",
        "outputId": "c5020d08-bf11-4c5e-b8bc-bc8c3d53a354"
      },
      "execution_count": null,
      "outputs": [
        {
          "output_type": "stream",
          "name": "stdout",
          "text": [
            "[(0, 0), (0, 1), (0, 2), (1, 0), (1, 1), (1, 2), (2, 0), (2, 1), (2, 2)]\n"
          ]
        }
      ]
    },
    {
      "cell_type": "markdown",
      "source": [
        "38.\tFrom ['a b','c d e'], produce a flat list of all words."
      ],
      "metadata": {
        "id": "coryzJVeKoM2"
      }
    },
    {
      "cell_type": "code",
      "source": [
        "strings = ['a b', 'c d e']\n",
        "flat_words = [word for s in strings for word in s.split()]\n",
        "print(flat_words)"
      ],
      "metadata": {
        "colab": {
          "base_uri": "https://localhost:8080/"
        },
        "id": "TjR4lrPtLwM_",
        "outputId": "c82d2271-5477-4bb6-b755-f86cc8699860"
      },
      "execution_count": null,
      "outputs": [
        {
          "output_type": "stream",
          "name": "stdout",
          "text": [
            "['a', 'b', 'c', 'd', 'e']\n"
          ]
        }
      ]
    },
    {
      "cell_type": "markdown",
      "source": [
        " — Using Lists of Dictionaries\n",
        "\n"
      ],
      "metadata": {
        "id": "vx8ads6VKraL"
      }
    },
    {
      "cell_type": "markdown",
      "source": [
        "39.\tGiven students = [{'name':'A','score':80}, {'name':'B','score':60}], Create a list of names of students with score ≥ 75."
      ],
      "metadata": {
        "id": "F6yeP1pFMRoJ"
      }
    },
    {
      "cell_type": "code",
      "source": [
        "students = [{'name':'lokesh','score':80}, {'name':'aditya','score':60}]\n",
        "high_score_names = [s['name'] for s in students if s['score'] >= 75]\n",
        "print(high_score_names)\n"
      ],
      "metadata": {
        "colab": {
          "base_uri": "https://localhost:8080/"
        },
        "id": "I5DgCqlqMfgY",
        "outputId": "50f3e067-136e-4a07-d00e-33ad99c6d717"
      },
      "execution_count": null,
      "outputs": [
        {
          "output_type": "stream",
          "name": "stdout",
          "text": [
            "['lokesh']\n"
          ]
        }
      ]
    },
    {
      "cell_type": "markdown",
      "source": [
        "40.\tBuild a list of dictionaries like {'n': n, 'square': n*n} for numbers 1 to 10."
      ],
      "metadata": {
        "id": "pZPWInvyMTyE"
      }
    },
    {
      "cell_type": "code",
      "source": [
        "numbers = [{'n': n, 'square': n*n} for n in range(1, 11)]\n",
        "print(numbers)\n"
      ],
      "metadata": {
        "colab": {
          "base_uri": "https://localhost:8080/"
        },
        "id": "5GnfUHp8NIVO",
        "outputId": "e0a146bd-e772-4910-f63b-e394a0333583"
      },
      "execution_count": null,
      "outputs": [
        {
          "output_type": "stream",
          "name": "stdout",
          "text": [
            "[{'n': 1, 'square': 1}, {'n': 2, 'square': 4}, {'n': 3, 'square': 9}, {'n': 4, 'square': 16}, {'n': 5, 'square': 25}, {'n': 6, 'square': 36}, {'n': 7, 'square': 49}, {'n': 8, 'square': 64}, {'n': 9, 'square': 81}, {'n': 10, 'square': 100}]\n"
          ]
        }
      ]
    },
    {
      "cell_type": "markdown",
      "source": [
        "41.\tMerge two lists element-wise into tuples, but include only pairs where both elements are truthy."
      ],
      "metadata": {
        "id": "y6nAmSyzMWC_"
      }
    },
    {
      "cell_type": "code",
      "source": [
        "list1 = [1, 0, 3, 4]\n",
        "list2 = [5, 6, 0, 8]\n",
        "\n",
        "merged = [(a, b) for a, b in zip(list1, list2) if a and b]\n",
        "print(merged)\n"
      ],
      "metadata": {
        "colab": {
          "base_uri": "https://localhost:8080/"
        },
        "id": "-UeXXeJVNLA2",
        "outputId": "97bdb660-eb55-476e-aec0-0c5f4a6146d5"
      },
      "execution_count": null,
      "outputs": [
        {
          "output_type": "stream",
          "name": "stdout",
          "text": [
            "[(1, 5), (4, 8)]\n"
          ]
        }
      ]
    },
    {
      "cell_type": "markdown",
      "source": [
        "42.\tCreate a comprehension to transpose a matrix (swap rows ↔ columns)."
      ],
      "metadata": {
        "id": "21fkaI5pMYMk"
      }
    },
    {
      "cell_type": "code",
      "source": [
        "matrix = [[1, 2, 3], [4, 5, 6]]\n",
        "transpose = [[row[i] for row in matrix] for i in range(len(matrix[0]))]\n",
        "print(transpose)\n",
        "\n"
      ],
      "metadata": {
        "colab": {
          "base_uri": "https://localhost:8080/"
        },
        "id": "po8CA9qPNUc0",
        "outputId": "078d2538-6e98-4cab-d4bf-02cea0294b45"
      },
      "execution_count": null,
      "outputs": [
        {
          "output_type": "stream",
          "name": "stdout",
          "text": [
            "[[1, 4], [2, 5], [3, 6]]\n"
          ]
        }
      ]
    },
    {
      "cell_type": "markdown",
      "source": [
        "— Advanced Comprehensions"
      ],
      "metadata": {
        "id": "jf9TLjfqMaop"
      }
    },
    {
      "cell_type": "markdown",
      "source": [
        "43.\tFlatten a 3-level nested list [[[1,2],[3]],[[4]]] into a single flat list."
      ],
      "metadata": {
        "id": "kbs0ytzNMebL"
      }
    },
    {
      "cell_type": "code",
      "source": [
        "nested = [[[1,2],[3]], [[4]]]\n",
        "flat_list = [x for sublist1 in nested for sublist2 in sublist1 for x in sublist2]\n",
        "print(flat_list)\n"
      ],
      "metadata": {
        "colab": {
          "base_uri": "https://localhost:8080/"
        },
        "id": "jSVLbYlgOpKj",
        "outputId": "a93d53e0-fe5f-4fbc-fb8a-fe36cd09edd1"
      },
      "execution_count": null,
      "outputs": [
        {
          "output_type": "stream",
          "name": "stdout",
          "text": [
            "[1, 2, 3, 4]\n"
          ]
        }
      ]
    },
    {
      "cell_type": "markdown",
      "source": [
        "44.\tWrite a comprehension that keeps only unique items from a list while preserving order."
      ],
      "metadata": {
        "id": "1fxhKQ4vN79e"
      }
    },
    {
      "cell_type": "code",
      "source": [
        "lst = [1,2,1,3,2,4,1]\n",
        "unique = []\n",
        "[unique.append(x) for x in lst if x not in unique]\n",
        "print(unique)\n"
      ],
      "metadata": {
        "colab": {
          "base_uri": "https://localhost:8080/"
        },
        "id": "g6N0taBkO7TZ",
        "outputId": "a46d0d0f-1588-479d-c04a-aff0ce18eea8"
      },
      "execution_count": null,
      "outputs": [
        {
          "output_type": "stream",
          "name": "stdout",
          "text": [
            "[1, 2, 3, 4]\n"
          ]
        }
      ]
    },
    {
      "cell_type": "markdown",
      "source": [
        "45.\tFind all indices (positions) where a given number appears in a list."
      ],
      "metadata": {
        "id": "VtZgFSA1N992"
      }
    },
    {
      "cell_type": "code",
      "source": [
        "n = [10, 20, 10, 30, 10,40,10,50]\n",
        "target = 10\n",
        "indices = [i for i, n in enumerate(n) if n == target]\n",
        "print(indices)\n"
      ],
      "metadata": {
        "colab": {
          "base_uri": "https://localhost:8080/"
        },
        "id": "BG3s_MjIPBnI",
        "outputId": "76ba99e0-652f-473c-8064-5a74ce3b95f1"
      },
      "execution_count": null,
      "outputs": [
        {
          "output_type": "stream",
          "name": "stdout",
          "text": [
            "[0, 2, 4, 6]\n"
          ]
        }
      ]
    },
    {
      "cell_type": "markdown",
      "source": [
        "46.\tGenerate all palindromic numbers (as strings) between 1 and 999."
      ],
      "metadata": {
        "id": "6_7FLla6OAIt"
      }
    },
    {
      "cell_type": "code",
      "source": [
        "palindromes = [str(i) for i in range(1, 1000) if str(i) == str(i)[::-1]]\n",
        "print(palindromes)\n"
      ],
      "metadata": {
        "colab": {
          "base_uri": "https://localhost:8080/"
        },
        "id": "H4Rk7chNPZ2w",
        "outputId": "334a7fc7-4b70-4a5d-ff60-3726e7bfb577"
      },
      "execution_count": null,
      "outputs": [
        {
          "output_type": "stream",
          "name": "stdout",
          "text": [
            "['1', '2', '3', '4', '5', '6', '7', '8', '9', '11', '22', '33', '44', '55', '66', '77', '88', '99', '101', '111', '121', '131', '141', '151', '161', '171', '181', '191', '202', '212', '222', '232', '242', '252', '262', '272', '282', '292', '303', '313', '323', '333', '343', '353', '363', '373', '383', '393', '404', '414', '424', '434', '444', '454', '464', '474', '484', '494', '505', '515', '525', '535', '545', '555', '565', '575', '585', '595', '606', '616', '626', '636', '646', '656', '666', '676', '686', '696', '707', '717', '727', '737', '747', '757', '767', '777', '787', '797', '808', '818', '828', '838', '848', '858', '868', '878', '888', '898', '909', '919', '929', '939', '949', '959', '969', '979', '989', '999']\n"
          ]
        }
      ]
    },
    {
      "cell_type": "markdown",
      "source": [
        "47.\tConvert a dictionary like {'a':[1,2], 'b':[3]} into a list of (key, value) pairs."
      ],
      "metadata": {
        "id": "AYcKo6t2ODTL"
      }
    },
    {
      "cell_type": "code",
      "source": [
        "dict= {'a':[1,2], 'b':[3]}\n",
        "result = [(k, v) for k in dict for v in dict[k]]\n",
        "print(result)\n"
      ],
      "metadata": {
        "colab": {
          "base_uri": "https://localhost:8080/"
        },
        "id": "jp91XsmsPgTr",
        "outputId": "ec08a5bd-5638-4c60-ff51-8287fcb6d163"
      },
      "execution_count": null,
      "outputs": [
        {
          "output_type": "stream",
          "name": "stdout",
          "text": [
            "[('a', 1), ('a', 2), ('b', 3)]\n"
          ]
        }
      ]
    },
    {
      "cell_type": "markdown",
      "source": [
        "48.\tCreate a list of prime pairs (p, q) where both are primes under 100 and p + q is also prime."
      ],
      "metadata": {
        "id": "mA3g_3y4OEcP"
      }
    },
    {
      "cell_type": "code",
      "source": [
        "def is_prime(n):\n",
        "    return n > 1 and all(n % i != 0 for i in range(2, int(n**0.5)+1))\n",
        "\n",
        "primes = [p for p in range(2, 100) if is_prime(p)]\n",
        "pairs = [(p, q) for p in primes for q in primes if is_prime(p+q)]\n",
        "print(pairs[:20])\n"
      ],
      "metadata": {
        "colab": {
          "base_uri": "https://localhost:8080/"
        },
        "id": "xVyBqsuoPgwP",
        "outputId": "f2aa2162-8e6a-4126-c754-e885cac305ae"
      },
      "execution_count": null,
      "outputs": [
        {
          "output_type": "stream",
          "name": "stdout",
          "text": [
            "[(2, 3), (2, 5), (2, 11), (2, 17), (2, 29), (2, 41), (2, 59), (2, 71), (3, 2), (5, 2), (11, 2), (17, 2), (29, 2), (41, 2), (59, 2), (71, 2)]\n"
          ]
        }
      ]
    },
    {
      "cell_type": "markdown",
      "source": [
        "49.\tCreate a lower-triangular matrix (n×n) with 1s below and on the diagonal, 0s above."
      ],
      "metadata": {
        "id": "VaH4P1n4OGaH"
      }
    },
    {
      "cell_type": "code",
      "source": [
        "n = int(input(\"enter a number:\"))\n",
        "matrix = [[1 if i >= j else 0 for j in range(n)] for i in range(n)]\n",
        "for row in matrix:\n",
        "    print(row)"
      ],
      "metadata": {
        "colab": {
          "base_uri": "https://localhost:8080/"
        },
        "id": "PL7uRcPLPhY3",
        "outputId": "770b965a-dae3-4f22-c2f4-94eab370b456"
      },
      "execution_count": null,
      "outputs": [
        {
          "output_type": "stream",
          "name": "stdout",
          "text": [
            "enter a number:4\n",
            "[1, 0, 0, 0]\n",
            "[1, 1, 0, 0]\n",
            "[1, 1, 1, 0]\n",
            "[1, 1, 1, 1]\n"
          ]
        }
      ]
    },
    {
      "cell_type": "markdown",
      "source": [
        "50.\tGenerate all possible sequences of length 4 from 'abcd' with no repeated letters."
      ],
      "metadata": {
        "id": "wJq8kJSDOIpe"
      }
    },
    {
      "cell_type": "code",
      "source": [
        "chars = 'abcd'\n",
        "\n",
        "all_sequences = [a+b+c+d\n",
        "                 for a in chars\n",
        "                 for b in chars if b != a\n",
        "                 for c in chars if c != a and c != b\n",
        "                 for d in chars if d != a and d != b and d != c]\n",
        "\n",
        "print(all_sequences)\n"
      ],
      "metadata": {
        "colab": {
          "base_uri": "https://localhost:8080/"
        },
        "id": "IctbavcKQBbo",
        "outputId": "994ae84e-aaa0-42a7-da79-4cf58c4ea3b8"
      },
      "execution_count": null,
      "outputs": [
        {
          "output_type": "stream",
          "name": "stdout",
          "text": [
            "['abcd', 'abdc', 'acbd', 'acdb', 'adbc', 'adcb', 'bacd', 'badc', 'bcad', 'bcda', 'bdac', 'bdca', 'cabd', 'cadb', 'cbad', 'cbda', 'cdab', 'cdba', 'dabc', 'dacb', 'dbac', 'dbca', 'dcab', 'dcba']\n"
          ]
        }
      ]
    },
    {
      "cell_type": "code",
      "source": [],
      "metadata": {
        "id": "0H9-YZxCKR4L"
      },
      "execution_count": null,
      "outputs": []
    }
  ]
}